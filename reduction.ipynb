{
 "cells": [
  {
   "cell_type": "code",
   "execution_count": 44,
   "metadata": {},
   "outputs": [],
   "source": [
    "def bf_2sum(A, T):\n",
    "    n = len(A)\n",
    "    for i in range (n):\n",
    "        for j in range (i, n):\n",
    "            if  A[i] + A[j] == T:\n",
    "                return True\n",
    "\n",
    "    return False"
   ]
  },
  {
   "cell_type": "code",
   "execution_count": 45,
   "metadata": {},
   "outputs": [
    {
     "data": {
      "text/plain": [
       "False"
      ]
     },
     "execution_count": 45,
     "metadata": {},
     "output_type": "execute_result"
    }
   ],
   "source": [
    "A = [1,4,6,3,8,2,0,-1]\n",
    "B = [-2,-4,5,2,0,7]\n",
    "bf_2sum(B, 20)"
   ]
  },
  {
   "cell_type": "code",
   "execution_count": 46,
   "metadata": {},
   "outputs": [
    {
     "data": {
      "text/plain": [
       "True"
      ]
     },
     "execution_count": 46,
     "metadata": {},
     "output_type": "execute_result"
    }
   ],
   "source": [
    "bf_2sum(A, 7)"
   ]
  },
  {
   "cell_type": "code",
   "execution_count": 47,
   "metadata": {},
   "outputs": [],
   "source": [
    "def binary_sesarch(A, T):\n",
    "    low = 0\n",
    "    n = len(A)\n",
    "    high = n - 1\n",
    "    mid = 0\n",
    "\n",
    "    while low <= high:\n",
    "        mid = (high + low )//2\n",
    "        if A[mid] < T:\n",
    "            low = mid +1\n",
    "        elif A[mid] > T:\n",
    "            high = mid - 1\n",
    "        else:\n",
    "            return True\n",
    "    return False"
   ]
  },
  {
   "cell_type": "code",
   "execution_count": 48,
   "metadata": {},
   "outputs": [],
   "source": [
    "def bs_2sum(A, T):\n",
    "    n = len(A)\n",
    "    A.sort()\n",
    "    for i in range (n):\n",
    "        return binary_sesarch(A, T - A[i])"
   ]
  },
  {
   "cell_type": "code",
   "execution_count": 49,
   "metadata": {},
   "outputs": [
    {
     "data": {
      "text/plain": [
       "False"
      ]
     },
     "execution_count": 49,
     "metadata": {},
     "output_type": "execute_result"
    }
   ],
   "source": [
    "bs_2sum(B, 20)"
   ]
  },
  {
   "cell_type": "code",
   "execution_count": 50,
   "metadata": {},
   "outputs": [
    {
     "data": {
      "text/plain": [
       "True"
      ]
     },
     "execution_count": 50,
     "metadata": {},
     "output_type": "execute_result"
    }
   ],
   "source": [
    "bs_2sum(A, 7)"
   ]
  },
  {
   "cell_type": "code",
   "execution_count": 51,
   "metadata": {},
   "outputs": [],
   "source": [
    "def greedy_2sum(A, T):\n",
    "    A.sort()\n",
    "    n = len(A)\n",
    "    i = 0\n",
    "    j = n - 1\n",
    "    while i <= j:\n",
    "        sum = A[i] + A[j]\n",
    "        if sum > T:\n",
    "            j = j - 1\n",
    "        elif sum < T:\n",
    "            i = i + 1\n",
    "        else:\n",
    "            return True\n",
    "    return False\n"
   ]
  },
  {
   "cell_type": "code",
   "execution_count": 52,
   "metadata": {},
   "outputs": [
    {
     "data": {
      "text/plain": [
       "False"
      ]
     },
     "execution_count": 52,
     "metadata": {},
     "output_type": "execute_result"
    }
   ],
   "source": [
    "greedy_2sum(B, 20)"
   ]
  },
  {
   "cell_type": "code",
   "execution_count": 53,
   "metadata": {},
   "outputs": [
    {
     "data": {
      "text/plain": [
       "True"
      ]
     },
     "execution_count": 53,
     "metadata": {},
     "output_type": "execute_result"
    }
   ],
   "source": [
    "greedy_2sum(A, 7)"
   ]
  },
  {
   "cell_type": "code",
   "execution_count": 54,
   "metadata": {},
   "outputs": [],
   "source": [
    "def greedy_2sum2(A, T):\n",
    "    n = len(A)\n",
    "    i = 0\n",
    "    j = n - 1\n",
    "    while i <= j:\n",
    "        sum = A[i] + A[j]\n",
    "        if sum > T:\n",
    "            j = j - 1\n",
    "        elif sum < T:\n",
    "            i = i + 1\n",
    "        else:\n",
    "            return True\n",
    "    return False\n"
   ]
  },
  {
   "cell_type": "code",
   "execution_count": 55,
   "metadata": {},
   "outputs": [],
   "source": [
    "def reduce_3sum(A, T):\n",
    "    A.sort()\n",
    "    n = len(A)\n",
    "    for i in range (n):\n",
    "        return greedy_2sum2(A, T - A[i])\n"
   ]
  },
  {
   "cell_type": "code",
   "execution_count": 56,
   "metadata": {},
   "outputs": [
    {
     "data": {
      "text/plain": [
       "True"
      ]
     },
     "execution_count": 56,
     "metadata": {},
     "output_type": "execute_result"
    }
   ],
   "source": [
    "reduce_3sum(A, 9)"
   ]
  },
  {
   "cell_type": "code",
   "execution_count": 57,
   "metadata": {},
   "outputs": [
    {
     "data": {
      "text/plain": [
       "False"
      ]
     },
     "execution_count": 57,
     "metadata": {},
     "output_type": "execute_result"
    }
   ],
   "source": [
    "reduce_3sum(B, 20)"
   ]
  },
  {
   "cell_type": "code",
   "execution_count": 58,
   "metadata": {},
   "outputs": [],
   "source": [
    "def zero_3sum(A):\n",
    "    A.sort()\n",
    "    n = len(A)\n",
    "    for i in range (n):\n",
    "        return greedy_2sum2(A, 0 - A[i])"
   ]
  },
  {
   "cell_type": "code",
   "execution_count": 59,
   "metadata": {},
   "outputs": [],
   "source": [
    "def zero_3sum2(A):\n",
    "    n = len(A)\n",
    "    for i in range (n):\n",
    "        return greedy_2sum2(A, 0 - A[i])"
   ]
  },
  {
   "cell_type": "code",
   "execution_count": 60,
   "metadata": {},
   "outputs": [
    {
     "data": {
      "text/plain": [
       "True"
      ]
     },
     "execution_count": 60,
     "metadata": {},
     "output_type": "execute_result"
    }
   ],
   "source": [
    "zero_3sum(A)"
   ]
  },
  {
   "cell_type": "code",
   "execution_count": 61,
   "metadata": {},
   "outputs": [
    {
     "data": {
      "text/plain": [
       "True"
      ]
     },
     "execution_count": 61,
     "metadata": {},
     "output_type": "execute_result"
    }
   ],
   "source": [
    "zero_3sum(B)"
   ]
  },
  {
   "cell_type": "code",
   "execution_count": 62,
   "metadata": {},
   "outputs": [
    {
     "data": {
      "text/plain": [
       "False"
      ]
     },
     "execution_count": 62,
     "metadata": {},
     "output_type": "execute_result"
    }
   ],
   "source": [
    "C = [-2, 3, 5, 7, 6]\n",
    "zero_3sum(C)"
   ]
  },
  {
   "cell_type": "code",
   "execution_count": 63,
   "metadata": {},
   "outputs": [],
   "source": [
    "def reduced_3sum_3zero(A, T):\n",
    "    A.sort()\n",
    "    n = len(A)\n",
    "    B = []\n",
    "    for i in range (n):\n",
    "        B.append(0)\n",
    "    for i in range(n):\n",
    "        B[i] = 3*A[i] - T\n",
    "    return zero_3sum2(B)\n",
    "\n",
    "# a[i] + a[j] + a[k] = T\n",
    "# 3a[i] + 3[aj] + 3a[k] - 3T = 0\n",
    "# (3a[i] - T) + (3a[j] - T) + (3a[k] - T) = 0"
   ]
  },
  {
   "cell_type": "code",
   "execution_count": 64,
   "metadata": {},
   "outputs": [
    {
     "data": {
      "text/plain": [
       "True"
      ]
     },
     "execution_count": 64,
     "metadata": {},
     "output_type": "execute_result"
    }
   ],
   "source": [
    "reduced_3sum_3zero(A, 7)"
   ]
  },
  {
   "cell_type": "code",
   "execution_count": 65,
   "metadata": {},
   "outputs": [
    {
     "data": {
      "text/plain": [
       "False"
      ]
     },
     "execution_count": 65,
     "metadata": {},
     "output_type": "execute_result"
    }
   ],
   "source": [
    "reduced_3sum_3zero(B, 20)"
   ]
  },
  {
   "cell_type": "code",
   "execution_count": 66,
   "metadata": {},
   "outputs": [],
   "source": [
    "import numpy\n",
    "def reduced_3array(A, B, C):\n",
    "    n = len(A)\n",
    "    D = []\n",
    "    E = []\n",
    "    F = []\n",
    "    for i in range (n):\n",
    "        D.append(0)\n",
    "        E.append(0)\n",
    "        F.append(0)\n",
    "    for i in range (n):\n",
    "        D[i] = 10 * A[i] + 1\n",
    "        E[i] = 10 * B[i] + 2\n",
    "        F[i] = 10 * C[i] - 3\n",
    "    G = numpy.concatenate((A, B, C), axis = None)\n",
    "    print(G)\n",
    "    return zero_3sum2(G)\n",
    "\n",
    "# multiply by 10 preserves sets of elements that sum to 0\n",
    "# add + 1: elements in A mod 10 = 1\n",
    "# add + 2: elements in B mod 10 = 2\n",
    "# add - 3: elements in C mod 10 = 7\n",
    "# so only way is to pick one from each subarray\n"
   ]
  },
  {
   "cell_type": "code",
   "execution_count": 67,
   "metadata": {},
   "outputs": [],
   "source": [
    "def twoSum(nums, target):\n",
    "        \"\"\"\n",
    "        :type nums: List[int]\n",
    "        :type target: int\n",
    "        :rtype: List[int]\n",
    "        \"\"\"\n",
    "        n = len(nums)\n",
    "        i = 0\n",
    "        j = n - 1\n",
    "        temp = []\n",
    "        for k in range (n):\n",
    "            temp.append(nums[k])\n",
    "        temp.sort()\n",
    "        \n",
    "        while i <= j:\n",
    "            sum = temp[i] + temp[j] \n",
    "            if sum > target:\n",
    "                j = j - 1\n",
    "            elif sum < target:\n",
    "                i = i + 1\n",
    "            else:\n",
    "                res_i = i\n",
    "                res_j = j\n",
    "                break\n",
    "        for i in range (n):\n",
    "            if nums[i] == temp[res_i]:\n",
    "                res_i = i\n",
    "                break\n",
    "        for j in range (n):\n",
    "            if j == res_i:\n",
    "                continue\n",
    "            if nums[j] == temp[res_j]:\n",
    "                res_j = j\n",
    "                break\n",
    "        \n",
    "        return [res_i, res_j]"
   ]
  },
  {
   "cell_type": "code",
   "execution_count": 68,
   "metadata": {},
   "outputs": [
    {
     "data": {
      "text/plain": [
       "[1, 2]"
      ]
     },
     "execution_count": 68,
     "metadata": {},
     "output_type": "execute_result"
    }
   ],
   "source": [
    "twoSum([3,2,4],6)"
   ]
  },
  {
   "cell_type": "code",
   "execution_count": 69,
   "metadata": {},
   "outputs": [
    {
     "data": {
      "text/plain": [
       "[0, 1]"
      ]
     },
     "execution_count": 69,
     "metadata": {},
     "output_type": "execute_result"
    }
   ],
   "source": [
    "twoSum([3,3],6)"
   ]
  },
  {
   "cell_type": "code",
   "execution_count": 70,
   "metadata": {},
   "outputs": [
    {
     "data": {
      "text/plain": [
       "[0, 2]"
      ]
     },
     "execution_count": 70,
     "metadata": {},
     "output_type": "execute_result"
    }
   ],
   "source": [
    "twoSum([3,2,3],6)"
   ]
  },
  {
   "cell_type": "code",
   "execution_count": 71,
   "metadata": {},
   "outputs": [
    {
     "name": "stdout",
     "output_type": "stream",
     "text": [
      "[ 2 -2 -1  8  3  5  6  4  7]\n"
     ]
    },
    {
     "data": {
      "text/plain": [
       "False"
      ]
     },
     "execution_count": 71,
     "metadata": {},
     "output_type": "execute_result"
    }
   ],
   "source": [
    "D = [2,-2,-1]\n",
    "E = [8,3,5]\n",
    "F = [6,4,7]\n",
    "reduced_3array(D,E,F)"
   ]
  },
  {
   "cell_type": "code",
   "execution_count": 72,
   "metadata": {},
   "outputs": [
    {
     "name": "stdout",
     "output_type": "stream",
     "text": [
      "[ 2 -2 -1  8  3  5 -1  4  7]\n"
     ]
    },
    {
     "data": {
      "text/plain": [
       "False"
      ]
     },
     "execution_count": 72,
     "metadata": {},
     "output_type": "execute_result"
    }
   ],
   "source": [
    "G = [2,-2,-1]\n",
    "H = [8,3,5]\n",
    "I = [-1,4,7]\n",
    "reduced_3array(G,H,I)"
   ]
  },
  {
   "cell_type": "code",
   "execution_count": 73,
   "metadata": {},
   "outputs": [],
   "source": [
    "def runningSum(nums):\n",
    "        \"\"\"\n",
    "        :type nums: List[int]\n",
    "        :rtype: List[int]\n",
    "        \"\"\"\n",
    "        \n",
    "        n = len(nums)\n",
    "        res = []\n",
    "        \n",
    "        for i in range(n):\n",
    "            res.append(0)\n",
    "        \n",
    "        res[0] = nums[0]\n",
    "        sum = nums[0]\n",
    "        \n",
    "        for i in range(1, n):\n",
    "            sum = sum + nums[i]\n",
    "            res[i] = sum\n",
    "            \n",
    "        return res"
   ]
  },
  {
   "cell_type": "code",
   "execution_count": 74,
   "metadata": {},
   "outputs": [
    {
     "data": {
      "text/plain": [
       "[1, 3, 6, 10]"
      ]
     },
     "execution_count": 74,
     "metadata": {},
     "output_type": "execute_result"
    }
   ],
   "source": [
    "runningSum([1,2,3,4])"
   ]
  },
  {
   "cell_type": "code",
   "execution_count": 75,
   "metadata": {},
   "outputs": [
    {
     "data": {
      "text/plain": [
       "[1, 2, 3, 4, 5]"
      ]
     },
     "execution_count": 75,
     "metadata": {},
     "output_type": "execute_result"
    }
   ],
   "source": [
    "runningSum([1,1,1,1,1])"
   ]
  },
  {
   "cell_type": "code",
   "execution_count": 76,
   "metadata": {},
   "outputs": [
    {
     "data": {
      "text/plain": [
       "[3, 4, 6, 16, 17]"
      ]
     },
     "execution_count": 76,
     "metadata": {},
     "output_type": "execute_result"
    }
   ],
   "source": [
    "runningSum([3,1,2,10,1])"
   ]
  },
  {
   "cell_type": "code",
   "execution_count": 77,
   "metadata": {},
   "outputs": [],
   "source": [
    "def reduced_square(A,B,C):\n",
    "    n = len(A)\n",
    "    \n",
    "    D = []\n",
    "    E = []\n",
    "    F = []\n",
    "    for i in range(n):\n",
    "        D.append(A[i] * A[i] * -1)\n",
    "        E.append(B[i] * B[i] * -1)\n",
    "        F.append(C[i] * C[i])\n",
    "\n",
    "    return reduced_3array(D,E,F)\n"
   ]
  },
  {
   "cell_type": "code",
   "execution_count": 78,
   "metadata": {},
   "outputs": [
    {
     "name": "stdout",
     "output_type": "stream",
     "text": [
      "[  -9 -361 -441  -16   -4  -81    4   25  100]\n"
     ]
    },
    {
     "data": {
      "text/plain": [
       "False"
      ]
     },
     "execution_count": 78,
     "metadata": {},
     "output_type": "execute_result"
    }
   ],
   "source": [
    "A = [3, 19, 21]\n",
    "B = [4, 2, 9]\n",
    "C = [2, 5, 10]\n",
    "reduced_square(A,B,C)"
   ]
  }
 ],
 "metadata": {
  "interpreter": {
   "hash": "f06979ed25b72b314029b36c994f81b9fb22bd1c4f44d65332b34f91983a234e"
  },
  "kernelspec": {
   "display_name": "Python 3.9.7 ('base')",
   "language": "python",
   "name": "python3"
  },
  "language_info": {
   "codemirror_mode": {
    "name": "ipython",
    "version": 3
   },
   "file_extension": ".py",
   "mimetype": "text/x-python",
   "name": "python",
   "nbconvert_exporter": "python",
   "pygments_lexer": "ipython3",
   "version": "3.9.7"
  },
  "orig_nbformat": 4
 },
 "nbformat": 4,
 "nbformat_minor": 2
}
