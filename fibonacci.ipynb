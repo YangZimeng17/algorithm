{
 "cells": [
  {
   "cell_type": "code",
   "execution_count": 1,
   "metadata": {},
   "outputs": [],
   "source": [
    "#function fib1(n)\n",
    "#if n = 0: return 0\n",
    "#if n = 1: return 1\n",
    "#return fib1(n - 1) + fib1(n - 2)"
   ]
  },
  {
   "cell_type": "code",
   "execution_count": 2,
   "metadata": {},
   "outputs": [],
   "source": [
    "def fib1(n):\n",
    "    if n == 0:\n",
    "        return 0\n",
    "    if n == 1:\n",
    "        return 1\n",
    "    return fib1(n - 1) + fib1(n - 2)\n"
   ]
  },
  {
   "cell_type": "code",
   "execution_count": 3,
   "metadata": {},
   "outputs": [
    {
     "name": "stdout",
     "output_type": "stream",
     "text": [
      "0\n",
      "1\n",
      "1\n",
      "2\n",
      "3\n",
      "5\n"
     ]
    }
   ],
   "source": [
    "print(fib1(0))\n",
    "print(fib1(1))\n",
    "print(fib1(2))\n",
    "print(fib1(3))\n",
    "print(fib1(4))\n",
    "print(fib1(5))"
   ]
  },
  {
   "cell_type": "code",
   "execution_count": 4,
   "metadata": {},
   "outputs": [],
   "source": [
    "#function fib2(n)\n",
    "#if n = 0 return 0\n",
    "#create an array f[0 : : : n]\n",
    "#f[0] = 0, f[1] = 1\n",
    "#for i = 2 : : : n:\n",
    "#f[i] = f[i 􀀀 1] + f[i 􀀀 2]\n",
    "#return f[n]"
   ]
  },
  {
   "cell_type": "code",
   "execution_count": 5,
   "metadata": {},
   "outputs": [],
   "source": [
    "def fib2(n):\n",
    "    if n == 0:\n",
    "        return 0\n",
    "    f = []\n",
    "    for i in range(30):\n",
    "       f.append(0)\n",
    "    f[0] = 0\n",
    "    f[1] = 1\n",
    "    for i in range (2,n +1):\n",
    "        f[i] = f[i-1] + f[i-2]\n",
    "    return f[n]"
   ]
  },
  {
   "cell_type": "code",
   "execution_count": 6,
   "metadata": {},
   "outputs": [
    {
     "name": "stdout",
     "output_type": "stream",
     "text": [
      "0\n",
      "1\n",
      "1\n",
      "2\n",
      "3\n",
      "5\n"
     ]
    }
   ],
   "source": [
    "print(fib2(0))\n",
    "print(fib2(1))\n",
    "print(fib2(2))\n",
    "print(fib2(3))\n",
    "print(fib2(4))\n",
    "print(fib2(5))"
   ]
  }
 ],
 "metadata": {
  "interpreter": {
   "hash": "f06979ed25b72b314029b36c994f81b9fb22bd1c4f44d65332b34f91983a234e"
  },
  "kernelspec": {
   "display_name": "Python 3.9.7 ('base')",
   "language": "python",
   "name": "python3"
  },
  "language_info": {
   "codemirror_mode": {
    "name": "ipython",
    "version": 3
   },
   "file_extension": ".py",
   "mimetype": "text/x-python",
   "name": "python",
   "nbconvert_exporter": "python",
   "pygments_lexer": "ipython3",
   "version": "3.9.7"
  },
  "orig_nbformat": 4
 },
 "nbformat": 4,
 "nbformat_minor": 2
}
