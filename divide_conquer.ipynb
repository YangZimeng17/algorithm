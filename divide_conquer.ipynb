{
 "cells": [
  {
   "cell_type": "code",
   "execution_count": 4,
   "metadata": {},
   "outputs": [],
   "source": [
    "import math\n",
    "def merge(aL, aR):\n",
    "    aOut = []\n",
    "    nL = len(aL)\n",
    "    nR = len(aR)\n",
    "    n = nL + nR\n",
    "    for i in range(n):\n",
    "        aOut.append(0)\n",
    "    iL = 0\n",
    "    iR = 0\n",
    "    iOut = 0\n",
    "    \n",
    "    while iL < nL and iR < nR:\n",
    "        if aL[iL] < aR[iR]:\n",
    "            aOut[iOut] = aL[iL]\n",
    "            \n",
    "            iL = iL + 1\n",
    "            iOut = iOut + 1\n",
    "        else:\n",
    "            aOut[iOut] = aR[iR]\n",
    "            iR = iR + 1\n",
    "            iOut = iOut + 1\n",
    "    \n",
    "    while iL < nL:\n",
    "        aOut[iOut] = aL[iL]\n",
    "        iL = iL + 1\n",
    "        iOut = iOut + 1\n",
    "    \n",
    "    while iR < nR:\n",
    "        aOut[iOut] = aR[iR]\n",
    "        iR = iR + 1\n",
    "        iOut = iOut + 1\n",
    "    \n",
    "    return aOut\n",
    "\n",
    "def mergesort(A):\n",
    "    n = len(A)\n",
    "    if n == 1:\n",
    "        return A\n",
    "    \n",
    "    nL = math.ceil(n/2)\n",
    "\n",
    "    aL = A[:nL]\n",
    "    aR = A[nL:]\n",
    "    \n",
    "    sL = mergesort(aL)\n",
    "    sR = mergesort(aR)\n",
    "\n",
    "    return merge(sL, sR)"
   ]
  },
  {
   "cell_type": "code",
   "execution_count": 5,
   "metadata": {},
   "outputs": [
    {
     "name": "stdout",
     "output_type": "stream",
     "text": [
      "[1, 4, 5, 7, 8, 10, 11, 12, 13, 14, 16, 19, 21, 31, 98, 105]\n"
     ]
    }
   ],
   "source": [
    "A = [105, 7, 13, 8, 14, 1, 19, 11, 4, 10, 98, 16, 31, 5, 21, 12]\n",
    "print(mergesort(A))"
   ]
  },
  {
   "cell_type": "code",
   "execution_count": 6,
   "metadata": {},
   "outputs": [],
   "source": [
    "def nd_points_bf(S):\n",
    "    n = len(S)\n",
    "    dominated = []\n",
    "    for i in range(n):\n",
    "        dominated.append(False)\n",
    "    for i in range(n):\n",
    "        for j in range(n):\n",
    "            if S[i] != S[j] and S[j][0] > S[i][0] and S[j][1] > S[i][1]:\n",
    "                dominated[i] = True\n",
    "        if not dominated[i]:\n",
    "            print(S[i])"
   ]
  },
  {
   "cell_type": "code",
   "execution_count": 7,
   "metadata": {},
   "outputs": [
    {
     "name": "stdout",
     "output_type": "stream",
     "text": [
      "[3, 10]\n",
      "[4, 8]\n",
      "[7, 7.9]\n",
      "[15, 6]\n",
      "[19, 5]\n",
      "[28, 4]\n",
      "[30, 1]\n"
     ]
    }
   ],
   "source": [
    "S = [[1,1],[2,5],[3,10],[4,8],[4.5,7.5],[7,7.9],[9,4],[10.5,4.5],[15,6],[16,4],[19,5],[22,3.5],[25,3],[25.5,2],[28,4],[30,1]]\n",
    "nd_points_bf(S)"
   ]
  },
  {
   "cell_type": "code",
   "execution_count": 8,
   "metadata": {},
   "outputs": [],
   "source": [
    "import math\n",
    "import numpy\n",
    "def nd_points(S):\n",
    "    S.sort(key = lambda x: x[0])\n",
    "    recurse(S)\n",
    "\n",
    "def recurse(S):\n",
    "    n = len(S)\n",
    "    if n == 1:\n",
    "        return S\n",
    "    \n",
    "    S1 = S[:math.floor(n/2)]\n",
    "    S2 = S[math.floor(n/2):]\n",
    "\n",
    "    L = recurse(S1)\n",
    "    R = recurse(S2)\n",
    "\n",
    "    i = 0\n",
    "    q = len(L)\n",
    "\n",
    "    while i < q and L[i][1] >= R[0][1]:\n",
    "        i = i + 1\n",
    "    if len(L[:i-1]) == 0:\n",
    "        return R\n",
    "    return numpy.concatenate((L[:i-1],R), axis = 0)\n",
    "    "
   ]
  },
  {
   "cell_type": "code",
   "execution_count": 9,
   "metadata": {},
   "outputs": [],
   "source": [
    "def Dnc_multiply(X,Y,k):\n",
    "    if k == 1:\n",
    "        return [X[0]*Y[0]]\n",
    "    print(k//2)\n",
    "    XR = X[:k//2]\n",
    "    XL = X[k//2:k]\n",
    "    YR = Y[:k//2]\n",
    "    YL = Y[k//2:k]\n",
    "\n",
    "    XLYL = Dnc_multiply(XL,YL,k//2)\n",
    "    XRYR = Dnc_multiply(XR,YR,k//2)\n",
    "    XLYR = Dnc_multiply(XL,YR,k//2)\n",
    "    XRYL = Dnc_multiply(XR,YL,k//2)\n",
    "    \n",
    "    \n",
    "    return numpy.left_shift(XLYL,k) + numpy.left_shift((XLYR + XRYL),(k/2)) + XRYR"
   ]
  },
  {
   "cell_type": "code",
   "execution_count": 10,
   "metadata": {},
   "outputs": [],
   "source": [
    "def karatsubamultiply(x,y,k):\n",
    "    if k == 1:\n",
    "        return [x[0]*y[0]]\n",
    "    \n",
    "    XR = x[:k//2]\n",
    "    XL = x[k//2:k]\n",
    "    YR = y[:k//2]\n",
    "    YL = y[k//2:k]\n",
    "    xt = XL + XR\n",
    "    yt = YL + YR\n",
    "\n",
    "    XLYL = karatsubamultiply(XL,YL,k//2)\n",
    "    XRYR = karatsubamultiply(XR,YR,k//2)\n",
    "    XTYT = karatsubamultiply(XT,YT,k//2)\n",
    "\n",
    "    return numpy.left_shift(XLYL,k) + numpy.left_shift((XTYT - XLYL - XRYR),(k/2)) + XRYR\n",
    "\n",
    "    "
   ]
  },
  {
   "cell_type": "code",
   "execution_count": 31,
   "metadata": {},
   "outputs": [],
   "source": [
    "def dncmatrix(A,B,n):\n",
    "    if n == 1:\n",
    "        return [[A[0]*B[0]]]\n",
    "\n",
    "    [a,b,c,d] = partition(A)\n",
    "    [e,f,g,h] = partition(B)\n",
    "\n",
    "    ae = dncmatrix(a,e,n//2)\n",
    "    af = dncmatrix(a,f,n//2)\n",
    "    bg = dncmatrix(b,g,n//2)\n",
    "    bh = dncmatrix(b,h,n//2)\n",
    "    ce = dncmatrix(c,e,n//2)\n",
    "    cf = dncmatrix(c,f,n//2)\n",
    "    dg = dncmatrix(d,g,n//2)\n",
    "    dh = dncmatrix(d,h,n//2)\n",
    "\n",
    "    return [[numpy.add(ae, bg), numpy.add(af,bg)], [numpy.add(ce,dg),numpy.add(cf,dh)]]\n",
    "\n",
    "def partition(A):\n",
    "    n = len(A)\n",
    "    l = numpy.array_split(A,2,axis=0)\n",
    "    new_l = []\n",
    "    for a in l:\n",
    "        l = numpy.array_split(a,2,axis=1)\n",
    "        new_l += l\n",
    "\n",
    "    \n",
    "    return new_l"
   ]
  },
  {
   "cell_type": "code",
   "execution_count": 35,
   "metadata": {},
   "outputs": [],
   "source": [
    "def strassenmartix(A,B,n):\n",
    "    if n == 1:\n",
    "        return [[A[0]*B[0]]]\n",
    "\n",
    "    [a,b,c,d] = partition(A)\n",
    "    [e,f,g,h] = partition(B)\n",
    "    a = a[0]\n",
    "    b = b[0]\n",
    "    c = c[0]\n",
    "    d = d[0]\n",
    "    e = e[0]\n",
    "    f = f[0]\n",
    "    g = g[0]\n",
    "    h = h[0]\n",
    "\n",
    "    p1 = strassenmartix(a,f-h,n//2)\n",
    "    p2 = strassenmartix(a+b,h,n//2)\n",
    "    p3 = strassenmartix(c+d,e,n//2)\n",
    "    p4 = strassenmartix(d,g-e,n//2)\n",
    "    p5 = strassenmartix(a+d,e+h,n//2)\n",
    "    p6 = strassenmartix(b-d,g+h,n//2)\n",
    "    p7 = strassenmartix(a-c,e+f,n//2)\n",
    "\n",
    "    res1 = numpy.subtract(numpy.add(numpy.add(p5,p6),p6),p2)\n",
    "    res2 = numpy.add(p1,p2)\n",
    "    res3 = numpy.add(p3,p4)\n",
    "    res4 = numpy.subtract(numpy.add(p5,p1), numpy.add(p3,p7))\n",
    "\n",
    "\n",
    "    return [[res1,res2],[res3,res4]]\n",
    "    "
   ]
  },
  {
   "cell_type": "code",
   "execution_count": 36,
   "metadata": {},
   "outputs": [
    {
     "name": "stdout",
     "output_type": "stream",
     "text": [
      "[[array([[[7]]]), array([[[8]]])], [array([[[15]]]), array([[[22]]])]]\n",
      "[[array([[-15]]), array([[10]])], [array([[15]]), array([[22]])]]\n"
     ]
    }
   ],
   "source": [
    "a = [[1,2],[3,4]]\n",
    "print(dncmatrix(a,a,2))\n",
    "print(strassenmartix(a,a,2))"
   ]
  }
 ],
 "metadata": {
  "interpreter": {
   "hash": "f06979ed25b72b314029b36c994f81b9fb22bd1c4f44d65332b34f91983a234e"
  },
  "kernelspec": {
   "display_name": "Python 3.9.7 ('base')",
   "language": "python",
   "name": "python3"
  },
  "language_info": {
   "codemirror_mode": {
    "name": "ipython",
    "version": 3
   },
   "file_extension": ".py",
   "mimetype": "text/x-python",
   "name": "python",
   "nbconvert_exporter": "python",
   "pygments_lexer": "ipython3",
   "version": "3.9.7"
  },
  "orig_nbformat": 4
 },
 "nbformat": 4,
 "nbformat_minor": 2
}
