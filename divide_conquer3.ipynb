{
 "cells": [
  {
   "cell_type": "markdown",
   "metadata": {},
   "source": [
    "selection problem\n",
    "input: array A containting n distinct integer vallues and integer k between 1 and n\n",
    "output: k-th smallest integer in A\n",
    "using pivot element y in array A, and restructure A so that all element less than y precede in A and all elements greater than y occur after y in A\n",
    "using recursive call if k != i_y"
   ]
  },
  {
   "cell_type": "code",
   "execution_count": 1,
   "metadata": {},
   "outputs": [],
   "source": [
    "def quick_select(k, A):\n",
    "    \n",
    "    n = len(A)\n",
    "    if n == 1:\n",
    "        return A[0]\n",
    "\n",
    "    y = A[0]\n",
    "\n",
    "    [AL, AR, iy] = restructure(A, y)\n",
    "\n",
    "    if k == iy:\n",
    "        return y\n",
    "    elif k < iy:\n",
    "        return quick_select(k, AL)\n",
    "    else:\n",
    "        return quick_select(k-iy, AR)\n",
    "\n",
    "def restructure(A, y):\n",
    "    AL = []\n",
    "    AR = []\n",
    "    n = len(A)\n",
    "\n",
    "    for i in range(n):\n",
    "        if A[i] < y:\n",
    "            AL.append(A[i])\n",
    "        elif A[i] > y:\n",
    "            AR.append(A[i])\n",
    "    nl = len(AL)+1\n",
    "    return [AL, AR, nl]"
   ]
  },
  {
   "cell_type": "code",
   "execution_count": 4,
   "metadata": {},
   "outputs": [
    {
     "name": "stdout",
     "output_type": "stream",
     "text": [
      "23\n"
     ]
    }
   ],
   "source": [
    "B = [12,4,6,27,23,17,40,9]\n",
    "print(quick_select(6,B))"
   ]
  },
  {
   "cell_type": "markdown",
   "metadata": {},
   "source": [
    "taking selection furture\n",
    "Median-of-median quicksort\n",
    "always picking a good pivot\n",
    "- group into rows of 5\n",
    "- find median of each row\n",
    "- build array of medians\n",
    "-recursively find median of these medians"
   ]
  },
  {
   "cell_type": "code",
   "execution_count": 24,
   "metadata": {},
   "outputs": [],
   "source": [
    "def MOMQuickSelect(k, n, A):\n",
    "    if n <= 14:\n",
    "        A.sort()\n",
    "        return A[k]\n",
    "    \n",
    "    r = (n-5)//10\n",
    "    medians = []\n",
    "    for i in range(1,2*r+2):\n",
    "        B = [0,0,0,0,0]\n",
    "        \n",
    "        B = A[5*(i-1)+1:5*i]\n",
    "        \n",
    "        B.sort()\n",
    "        medians.append(B[2])\n",
    "\n",
    "    y = MOMQuickSelect(r+1, 2*r+1, medians)\n",
    "\n",
    "    [AL,AR,iy] = restructure(A,y)\n",
    "    if k == iy:\n",
    "        return y\n",
    "    elif k < iy:\n",
    "        return MOMQuickSelect(k,iy-1,AL)\n",
    "    else: # k > iy\n",
    "        return MOMQuickSelect(k-iy,n-iy,AR)"
   ]
  },
  {
   "cell_type": "code",
   "execution_count": 25,
   "metadata": {},
   "outputs": [
    {
     "name": "stdout",
     "output_type": "stream",
     "text": [
      "38\n",
      "27\n"
     ]
    }
   ],
   "source": [
    "C = [11,38,6,21,20,17,14,9,7,5,8,34,49,47]\n",
    "D = [11,38,6,21,20,17,14,9,7,5,8,34,49,47,28,18,44,31,46,48,27]\n",
    "print(MOMQuickSelect(11,14,C))\n",
    "print(MOMQuickSelect(11,21,D))"
   ]
  },
  {
   "cell_type": "markdown",
   "metadata": {},
   "source": [
    "Closer Pair Problem\n",
    "input: set P of n 2D points\n",
    "output: pair p and q st dist(p,q) mininum over all pairs"
   ]
  },
  {
   "cell_type": "code",
   "execution_count": 65,
   "metadata": {},
   "outputs": [],
   "source": [
    "import math\n",
    "def shamos_closestpairs(P):\n",
    "    Px = sorted(P,key = lambda x: x[0])\n",
    "    Py = sorted(P,key = lambda x: x[1])\n",
    "    return recurse(Px, Py)\n",
    "\n",
    "def recurse(Px, Py):\n",
    "    n = len(Px)\n",
    "    #print(Px)\n",
    "    #print(Py)\n",
    "    if n < 4:\n",
    "        return bruteforce(Px)\n",
    "    \n",
    "    xmid = Px[n//2][0]\n",
    "    Pxl = Px[:n//2]\n",
    "    PxR = Px[n//2:]\n",
    "    Pyl = []\n",
    "    PyR = []\n",
    "    for i in range(n):\n",
    "        if Py[i][0] < xmid:\n",
    "            Pyl.append(Py[i])\n",
    "        else:\n",
    "            PyR.append(Py[i])\n",
    "   \n",
    "    pairL = recurse(Pxl, Pyl)\n",
    "    pairR = recurse(PxR,PyR)\n",
    "\n",
    "    d = min(dist(pairL), dist(pairR))\n",
    "    pairS = findMinSpanningPair(d,Py,xmid)\n",
    "    return minDistPair3(pairL, pairR, pairS)\n",
    "\n",
    "def findMinSpanningPair(d, Py, xmid):\n",
    "    S = []\n",
    "    n = len(Py)\n",
    "    for i in range(n):\n",
    "        if abs(xmid - Py[i][0]) <= d:\n",
    "            S.append(Py[i])\n",
    "    \n",
    "    minPair = (S[0], S[1])\n",
    "    for i in range(len(S)):\n",
    "        for j in range(i+1, len(S)):\n",
    "            if S[j][1] - S[i][1] > d:\n",
    "                break\n",
    "            minPair = minDistPair2(minPair, (S[i],S[j]))\n",
    "    \n",
    "    return minPair\n",
    "\n",
    "\n",
    "def bruteforce(P):\n",
    "    n = len(P)\n",
    "   \n",
    "    min_dist = dist((P[0], P[1]))\n",
    "    pair_res = (P[0], P[1])\n",
    "    for i in range(1,n):\n",
    "        for j in range(1,n):\n",
    "            if P[i] == P[j]:\n",
    "                continue\n",
    "            if dist((P[i], P[j])) < min_dist:\n",
    "                min_dist = dist((P[i], P[j]))\n",
    "                pair_res = (P[i], P[j])\n",
    "    #print(pair_res)\n",
    "    return pair_res\n",
    "\n",
    "def dist(P):\n",
    "    P1 = P[0]\n",
    "    P2 = P[1]\n",
    "    return math.sqrt((P1[0] - P2[0]) * (P1[0] - P2[0]) + (P1[1] - P2[1]) * (P1[1] - P2[1]))\n",
    "\n",
    "def minDistPair3(pairL, pairR, pairS):\n",
    "    pair1 = minDistPair2(pairL, pairR)\n",
    "    return minDistPair2(pair1, pairS)\n",
    "\n",
    "def minDistPair2(pair1, pair2):\n",
    "    dist1 = dist(pair1)\n",
    "    dist2 = dist(pair2)\n",
    "    if dist1 < dist2:\n",
    "        return pair1\n",
    "    return pair2\n"
   ]
  },
  {
   "cell_type": "code",
   "execution_count": 66,
   "metadata": {},
   "outputs": [
    {
     "data": {
      "text/plain": [
       "([8, 5], [7, 6])"
      ]
     },
     "execution_count": 66,
     "metadata": {},
     "output_type": "execute_result"
    }
   ],
   "source": [
    "A = [[2,3],[1,6],[3,2],[7,6],[5,1],[4,9],[6,4],[8,5]]\n",
    "shamos_closestpairs(A)"
   ]
  }
 ],
 "metadata": {
  "interpreter": {
   "hash": "901d70ae1530ddb76115fe57faa0c53188428d066023d0f58f5318339235ff0e"
  },
  "kernelspec": {
   "display_name": "Python 3.9.7 ('tf-gpu')",
   "language": "python",
   "name": "python3"
  },
  "language_info": {
   "codemirror_mode": {
    "name": "ipython",
    "version": 3
   },
   "file_extension": ".py",
   "mimetype": "text/x-python",
   "name": "python",
   "nbconvert_exporter": "python",
   "pygments_lexer": "ipython3",
   "version": "3.9.7"
  },
  "orig_nbformat": 4
 },
 "nbformat": 4,
 "nbformat_minor": 2
}
