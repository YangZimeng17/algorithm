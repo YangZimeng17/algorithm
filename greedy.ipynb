{
 "cells": [
  {
   "cell_type": "markdown",
   "metadata": {},
   "source": [
    "interval selection\n",
    "input: set A of time interwals, with start time si and finish time fi\n",
    "feasible solution: subset X of A containning pariwise disjoint intervals\n",
    "output: feasible solution of max size"
   ]
  },
  {
   "cell_type": "code",
   "execution_count": 9,
   "metadata": {},
   "outputs": [],
   "source": [
    "def greedyIntervalSelection(A):\n",
    "    A = sorted(A,key = lambda x: x[1])\n",
    "    X = [A[0]]\n",
    "    prev = 0\n",
    "    n = len(A)\n",
    "\n",
    "    for i in range(1,n):\n",
    "        \n",
    "        if A[i][0] >= A[prev][1]:\n",
    "            X.append(A[i])\n",
    "            prev = i\n",
    "    return X"
   ]
  },
  {
   "cell_type": "code",
   "execution_count": 10,
   "metadata": {},
   "outputs": [
    {
     "name": "stdout",
     "output_type": "stream",
     "text": [
      "[[1, 3], [5, 7]]\n"
     ]
    }
   ],
   "source": [
    "A = [[0,10],[1,3],[5,7]]\n",
    "X = greedyIntervalSelection(A)\n",
    "print(X)"
   ]
  },
  {
   "cell_type": "markdown",
   "metadata": {},
   "source": [
    "interval colouring\n",
    "instance: set A with start time si and finish time fi\n",
    "feasible solution: c-colouring is a mapping col that assigns each interval a colour such that two intervals receiving the same colour are always disjoint\n",
    "find: c-colouring of A with minimum number of colours"
   ]
  },
  {
   "cell_type": "code",
   "execution_count": 49,
   "metadata": {},
   "outputs": [],
   "source": [
    "import heapq\n",
    "\n",
    "def preprocess(A):\n",
    "    A = sorted(A,key = lambda x: x[0])\n",
    "    n = len(A)\n",
    "    s = []\n",
    "    f = []\n",
    "    for i in range (n):\n",
    "        s.append(A[i][0])\n",
    "        f.append(A[i][1])\n",
    "    return greedyIntervalColouring(s,f)\n",
    "\n",
    "def greedyIntervalColouring(s,f):\n",
    "    d = 1 #maybe 0?\n",
    "    c1 = [1]\n",
    "    n = len(s)\n",
    "    \n",
    "    for i in range(n):\n",
    "        c1.append(0)\n",
    "    h = [[f[0], c1[0]]]\n",
    "    heapq.heapify(h)\n",
    "    \n",
    "\n",
    "    for i in range(1,n):\n",
    "        [temp] = heapq.nsmallest(1,h)\n",
    "        fc = temp[0]\n",
    "        c = temp[1]\n",
    "        \n",
    "        if fc <= s[i]:\n",
    "            heapq.heappop(h)\n",
    "            c1[i] = c\n",
    "        else:\n",
    "            d = d + 1\n",
    "            c1[i] = d\n",
    "        heapq.heappush(h,[f[i], c1[i]])\n",
    "\n",
    "    return d\n"
   ]
  },
  {
   "cell_type": "code",
   "execution_count": 50,
   "metadata": {},
   "outputs": [
    {
     "name": "stdout",
     "output_type": "stream",
     "text": [
      "3\n"
     ]
    }
   ],
   "source": [
    "A = [[0,3],[8,11],[14,20],[3,9],[16,20],[6,13],[10,15],[0,7],[12,20],[0,5]]\n",
    "d = preprocess(A)\n",
    "print(d)"
   ]
  },
  {
   "cell_type": "markdown",
   "metadata": {},
   "source": [
    "knapsack problem\n",
    "instance: profit P[], weight W [] and capacity M\n",
    "feasible solution: n-tuple X [] where sigma wixi <= M \n",
    "find: feasiible solution X that maximize profit\n",
    "\n",
    "strategy: consiter items in decreasing order of profit divided by weight"
   ]
  },
  {
   "cell_type": "code",
   "execution_count": 10,
   "metadata": {},
   "outputs": [],
   "source": [
    "def prepocess_K(A, M):\n",
    "    A = sorted(A, key = lambda x: x[0]/x[1], reverse= True)\n",
    "    n = len(A)\n",
    "    p = []\n",
    "    w = []\n",
    "    final = []\n",
    "    for i in range(n):\n",
    "        p.append(A[i][0])\n",
    "        w.append(A[i][1])\n",
    "    \n",
    "    res = GreedyRationalKnapsack(p, w, M)\n",
    "    \n",
    "    for i in range(n):\n",
    "        if res[i] != 0:\n",
    "            A[i][0] = A[i][0] * res[i]\n",
    "            A[i][1] = A[i][1] * res[i]\n",
    "            final.append(A[i])\n",
    "    \n",
    "    return final\n",
    "\n",
    "def GreedyRationalKnapsack(p, w, M):\n",
    "    n = len(p)\n",
    "    x = []\n",
    "    for i in range(n):\n",
    "        x.append(0)\n",
    "    weight = 0\n",
    "\n",
    "    for i in range(n):\n",
    "        if weight + w[i] > M:\n",
    "            x[i] = (M - weight) / w[i]\n",
    "            break\n",
    "        else:\n",
    "            x[i] = 1\n",
    "            weight = weight + w[i]\n",
    "\n",
    "    return x"
   ]
  },
  {
   "cell_type": "code",
   "execution_count": 11,
   "metadata": {},
   "outputs": [
    {
     "name": "stdout",
     "output_type": "stream",
     "text": [
      "[[50, 20], [60, 25], [20, 10], [25.0, 25.0]]\n"
     ]
    }
   ],
   "source": [
    "A = [[20,10],[50,20],[100,100],[60,25]]\n",
    "B = prepocess_K(A, 80)\n",
    "print(B)"
   ]
  },
  {
   "cell_type": "markdown",
   "metadata": {},
   "source": [
    "coin changing\n",
    "instance: a list of coin denominations d1, ... dn and a positive int T, which is the target sum\n",
    "find: an n-tuple of non-negative integers, A[a1...an] such that T = sigma aidi and such that N = sigma ai is minimized"
   ]
  },
  {
   "cell_type": "code",
   "execution_count": 18,
   "metadata": {},
   "outputs": [],
   "source": [
    "import math\n",
    "def greedyCoinChanging(D, T):\n",
    "    D = sorted(D, reverse= True)\n",
    "    print(D)\n",
    "    n = len(D)\n",
    "    used = []\n",
    "    for i in range(n):\n",
    "        used.append(math.floor(T/D[i]))\n",
    "        T = T - (used[i] * D[i])\n",
    "    \n",
    "    if T > 0:\n",
    "        return None\n",
    "    return used\n"
   ]
  },
  {
   "cell_type": "code",
   "execution_count": 19,
   "metadata": {},
   "outputs": [
    {
     "name": "stdout",
     "output_type": "stream",
     "text": [
      "[200, 100, 25, 10, 5, 1]\n",
      "[1, 0, 2, 0, 1, 0]\n"
     ]
    }
   ],
   "source": [
    "D = [1,5,10,25,100,200]\n",
    "used = greedyCoinChanging(D,255)\n",
    "print(used)"
   ]
  },
  {
   "cell_type": "code",
   "execution_count": 20,
   "metadata": {},
   "outputs": [
    {
     "name": "stdout",
     "output_type": "stream",
     "text": [
      "[3, 4, [2, 3]]\n"
     ]
    }
   ],
   "source": [
    "A = [1,2,3,4,5]\n",
    "B = [3,4]\n",
    "B.append(A[1:3])\n",
    "print(B)"
   ]
  },
  {
   "cell_type": "code",
   "execution_count": 25,
   "metadata": {},
   "outputs": [],
   "source": [
    "class ListNode:\n",
    "    def __init__(self, val=0, nextNode=None):\n",
    "        self.val = val\n",
    "        self.next = nextNode\n",
    "\n",
    "def mergeTwoLists(self, list1, list2):\n",
    "        \"\"\"\n",
    "        :type list1: Optional[ListNode]\n",
    "        :type list2: Optional[ListNode]\n",
    "        :rtype: Optional[ListNode]\n",
    "        \"\"\"\n",
    "        \n",
    "        if list1 == None:\n",
    "            return list2\n",
    "        if list2 == None:\n",
    "            return list1\n",
    "        \n",
    "        if list1.val < list2.val:\n",
    "            head = ListNode(list1.val)\n",
    "            temp = head\n",
    "            list1 = list1.next\n",
    "        else:\n",
    "            head = ListNode(list2.val)\n",
    "            temp = head\n",
    "            list2 = list2.next\n",
    "\n",
    "        while list1 != None and list2 != None:\n",
    "            if list1.val < list2.val:\n",
    "                temp.next = ListNode(list1.val)\n",
    "                list1 = list1.next\n",
    "            else:\n",
    "                temp.next = ListNode(list2.val)\n",
    "                list2 = list2.next\n",
    "        \n",
    "            temp = temp.next\n",
    "\n",
    "        while list1 != None:\n",
    "            temp.next = ListNode(list1.val)\n",
    "            list1 = list1.next\n",
    "            temp = temp.next\n",
    "        \n",
    "        while list2 != None:\n",
    "            temp.next = ListNode(list2.val)\n",
    "            list2 = list2.next\n",
    "            temp = temp.next\n",
    "                \n",
    "        return head"
   ]
  },
  {
   "cell_type": "code",
   "execution_count": 24,
   "metadata": {},
   "outputs": [
    {
     "name": "stdout",
     "output_type": "stream",
     "text": [
      "[]\n",
      "[1, 2]\n",
      "[1, 1, 2, 3, 4, 4]\n"
     ]
    }
   ],
   "source": [
    "A = []\n",
    "B = []\n",
    "C = [1,2]\n",
    "D = [1,2,4]\n",
    "E = [1,3,4]\n",
    "print(mergeTwoLists(A,B))\n",
    "print(mergeTwoLists(A,C))\n",
    "print(mergeTwoLists(D,E))"
   ]
  }
 ],
 "metadata": {
  "interpreter": {
   "hash": "f06979ed25b72b314029b36c994f81b9fb22bd1c4f44d65332b34f91983a234e"
  },
  "kernelspec": {
   "display_name": "Python 3.9.7 ('base')",
   "language": "python",
   "name": "python3"
  },
  "language_info": {
   "codemirror_mode": {
    "name": "ipython",
    "version": 3
   },
   "file_extension": ".py",
   "mimetype": "text/x-python",
   "name": "python",
   "nbconvert_exporter": "python",
   "pygments_lexer": "ipython3",
   "version": "3.9.7"
  },
  "orig_nbformat": 4
 },
 "nbformat": 4,
 "nbformat_minor": 2
}
