{
 "cells": [
  {
   "cell_type": "code",
   "execution_count": 116,
   "metadata": {},
   "outputs": [],
   "source": [
    "class Node:\n",
    "    def __init__(self, val):\n",
    "        self.val = val  \n",
    "        self.next = None  \n",
    "\n",
    "class LinkedList:\n",
    "    def __init__(self):\n",
    "        self.head = None\n",
    " \n",
    "if __name__=='__main__':\n",
    "    llist = LinkedList()\n",
    " \n",
    "    llist.head = Node(1)\n",
    "    second = Node(2)\n",
    "    third = Node(3)"
   ]
  },
  {
   "cell_type": "code",
   "execution_count": 117,
   "metadata": {},
   "outputs": [],
   "source": [
    "def bfs(adj,s):\n",
    "    n = len(adj)\n",
    "    pred = []\n",
    "    dis = []\n",
    "    colour = []\n",
    "    queue = []\n",
    "    s = s - 1\n",
    "    for i in range(n):\n",
    "        pred.append(0)\n",
    "        dis.append(100)\n",
    "        colour.append('white')\n",
    "    \n",
    "    colour[s] = 'gray'\n",
    "    dis[s] = 0\n",
    "    queue.append(s)\n",
    "\n",
    "    while len(queue) != 0:\n",
    "        u = queue.pop()\n",
    "        v = adj[u].head\n",
    "        while v != None:\n",
    "            val = v.val - 1\n",
    "            if colour[val] == 'white':\n",
    "                pred[val] = u+1\n",
    "                colour[val] = 'gray'\n",
    "                dis[val] = dis[u] + 1\n",
    "                queue.append(val)\n",
    "            v = v.next\n",
    "        colour[u] = 'black'\n",
    "\n",
    "    return colour, pred, dis\n",
    "\n"
   ]
  },
  {
   "cell_type": "code",
   "execution_count": 118,
   "metadata": {},
   "outputs": [
    {
     "name": "stdout",
     "output_type": "stream",
     "text": [
      "[0, 1, 1, 2, 2, 3, 2, 3]\n",
      "[0, 1, 1, 2, 3, 5, 3, 7]\n"
     ]
    }
   ],
   "source": [
    "l1 = LinkedList()\n",
    "l1.head = Node(1)\n",
    "l1_second = Node(2)\n",
    "l1_third = Node(3)\n",
    "l1.head.next = l1_second\n",
    "l1_second.next = l1_third\n",
    "\n",
    "l2 = LinkedList()\n",
    "l2.head = Node(2)\n",
    "l2_second = Node(1)\n",
    "l2_third = Node(4)\n",
    "l2_4 = Node(5)\n",
    "l2.head.next = l2_second\n",
    "l2_second.next = l2_third\n",
    "l2_third.next = l2_4\n",
    "\n",
    "l3 = LinkedList()\n",
    "l3.head = Node(3)\n",
    "l3_second = Node(1)\n",
    "l3_third = Node(5)\n",
    "l3_4 = Node(7)\n",
    "l3.head.next = l3_second\n",
    "l3_second.next = l3_third\n",
    "l3_third.next = l3_4\n",
    "\n",
    "l4 = LinkedList()\n",
    "l4.head = Node(4)\n",
    "l4_second = Node(2)\n",
    "l4.head.next = l4_second\n",
    "\n",
    "l5 = LinkedList()\n",
    "l5.head = Node(5)\n",
    "l5_second = Node(2)\n",
    "l5_third = Node(3)\n",
    "l5_4 = Node(6)\n",
    "l5.head.next = l5_second\n",
    "l5_second.next = l5_third\n",
    "l5_third.next = l5_4\n",
    "\n",
    "l6 = LinkedList()\n",
    "l6.head = Node(6)\n",
    "l6_second = Node(5)\n",
    "l6.head.next = l6_second\n",
    "\n",
    "l7 = LinkedList()\n",
    "l7.head = Node(7)\n",
    "l7_second = Node(3)\n",
    "l7_third = Node(8)\n",
    "l7.head.next = l7_second\n",
    "l7_second.next = l7_third\n",
    "\n",
    "l8 = LinkedList()\n",
    "l8.head = Node(8)\n",
    "l8_second = Node(7)\n",
    "l8.head.next = l8_second\n",
    "\n",
    "arr = [l1,l2,l3,l4,l5,l6,l7,l8]\n",
    "col, pred, dist = bfs(arr,1)\n",
    "print(dist)\n",
    "print(pred)"
   ]
  },
  {
   "cell_type": "code",
   "execution_count": 119,
   "metadata": {},
   "outputs": [],
   "source": [
    "def bfs_ma(adj,s):\n",
    "    n = len(adj)\n",
    "    pred = []\n",
    "    dis = []\n",
    "    colour = []\n",
    "    queue = []\n",
    "    s = s - 1\n",
    "    for i in range(n):\n",
    "        pred.append(None)\n",
    "        dis.append(100)\n",
    "        colour.append('white')\n",
    "    \n",
    "    colour[s] = 'gray'\n",
    "    dis[s] = 0\n",
    "    queue.append(s)\n",
    "\n",
    "    while len(queue) != 0:\n",
    "        u = queue.pop()\n",
    "        for v in range(n):\n",
    "            if adj[u][v] and colour[v] == 'white':\n",
    "                    pred[v] = u\n",
    "                    colour[v] = 'gray'\n",
    "                    dis[v] = dis[u] + 1\n",
    "                    queue.append(v)\n",
    "        colour[u] = 'black'\n",
    "\n",
    "    return colour, pred, dis"
   ]
  },
  {
   "cell_type": "code",
   "execution_count": 120,
   "metadata": {},
   "outputs": [
    {
     "name": "stdout",
     "output_type": "stream",
     "text": [
      "[0, 1, 1, 2, 2, 3, 2, 2]\n",
      "[None, 0, 0, 1, 2, 4, 2, 2]\n"
     ]
    }
   ],
   "source": [
    "arr = [\n",
    "    [0,1,1,0,0,0,0,0],\n",
    "    [1,0,1,1,1,0,0,0],\n",
    "    [1,1,0,0,1,0,1,1],\n",
    "    [0,1,0,0,0,0,0,0],\n",
    "    [0,1,1,0,0,1,0,0],\n",
    "    [0,0,0,0,1,0,0,0],\n",
    "    [0,0,1,0,0,0,0,1],\n",
    "    [0,0,1,0,0,0,1,0],\n",
    "]\n",
    "col_ma, pred_ma, dist_ma = bfs_ma(arr,1)\n",
    "print(dist_ma)\n",
    "print(pred_ma)"
   ]
  },
  {
   "cell_type": "code",
   "execution_count": 121,
   "metadata": {},
   "outputs": [],
   "source": [
    "def find_path(pred,s,e):\n",
    "    arr = [e]\n",
    "    prev = pred[e-1]\n",
    "    while prev != s:\n",
    "        arr.insert(0,prev)\n",
    "        prev = pred[prev-1]\n",
    "\n",
    "    arr.insert(0,s)\n",
    "    return arr"
   ]
  },
  {
   "cell_type": "code",
   "execution_count": 122,
   "metadata": {},
   "outputs": [
    {
     "name": "stdout",
     "output_type": "stream",
     "text": [
      "[1, 3, 5, 6]\n"
     ]
    }
   ],
   "source": [
    "path = find_path(pred, 1, 6)\n",
    "\n",
    "print(path)"
   ]
  },
  {
   "cell_type": "code",
   "execution_count": 123,
   "metadata": {},
   "outputs": [],
   "source": [
    "def bfs1(adj,s,colour,dist):\n",
    "    n = len(adj)\n",
    "    pred = []\n",
    "    dis = dist\n",
    "    colour = colour\n",
    "    queue = []\n",
    "    s = s - 1\n",
    "    for i in range(n):\n",
    "        pred.append(0)\n",
    "    \n",
    "    colour[s] = 'gray'\n",
    "    dis[s] = 0\n",
    "    queue.append(s)\n",
    "\n",
    "    while len(queue) != 0:\n",
    "        u = queue.pop()\n",
    "        v = adj[u].head\n",
    "        while v != None:\n",
    "            val = v.val - 1\n",
    "            if colour[val] == 'white':\n",
    "                pred[val] = u+1\n",
    "                colour[val] = 'gray'\n",
    "                dis[val] = dis[u] + 1\n",
    "                queue.append(val)\n",
    "            v = v.next\n",
    "        colour[u] = 'black'\n",
    "\n",
    "    return colour, pred, dis\n"
   ]
  },
  {
   "cell_type": "code",
   "execution_count": null,
   "metadata": {},
   "outputs": [],
   "source": []
  },
  {
   "cell_type": "code",
   "execution_count": 124,
   "metadata": {},
   "outputs": [],
   "source": [
    "def bipartition(adj):\n",
    "    colour = []\n",
    "    dist = []\n",
    "    n = len(adj)\n",
    "    for i in range(n):\n",
    "        colour.append('white')\n",
    "        dist.append(100)\n",
    "\n",
    "    for i in range(n):\n",
    "        if colour[i] == 'white':\n",
    "            bfs1(adj,i+1,colour,dist)\n",
    "    \n",
    "    for u in adj:\n",
    "        u = u.head\n",
    "        v = u.next\n",
    "        if v != None:\n",
    "            if dist[u.val-1] %2 == dist[v.val-1]%2:\n",
    "                return \"NotBipartite\"\n",
    "    B = []\n",
    "    R = []\n",
    "    for u in adj:\n",
    "        if dist[u.head.val-1] % 2 == 0:\n",
    "            B.append(u.head.val)\n",
    "        else:\n",
    "            R.append(u.head.val)\n",
    "    return B,R\n"
   ]
  },
  {
   "cell_type": "code",
   "execution_count": 125,
   "metadata": {},
   "outputs": [
    {
     "name": "stdout",
     "output_type": "stream",
     "text": [
      "[1, 4, 5, 7]\n",
      "[2, 3, 6, 8]\n"
     ]
    }
   ],
   "source": [
    "arr = [l1,l2,l3,l4,l5,l6,l7,l8]\n",
    "B,R = bipartition(arr)\n",
    "print(B)\n",
    "print(R)"
   ]
  },
  {
   "cell_type": "code",
   "execution_count": 134,
   "metadata": {},
   "outputs": [],
   "source": [
    "pred_d = []\n",
    "colour_d = []\n",
    "d = []\n",
    "f = []\n",
    "t = 0\n",
    "dag = True\n",
    "n = 12\n",
    "\n",
    "for i in range(n):\n",
    "    pred_d.append(None)\n",
    "    colour_d.append('white')\n",
    "    d.append(0)\n",
    "    f.append(0)\n",
    "\n",
    "def dfs(adj):\n",
    "    for i in range(n):\n",
    "        if colour_d[i] == 'white':\n",
    "            dfs_visit(adj,i)\n",
    "\n",
    "def dfs_visit(adj,i):\n",
    "    global t\n",
    "    global dag\n",
    "    colour_d[i] = 'gray'\n",
    "    t = t + 1\n",
    "    d[i] = t\n",
    "    for w in range(len(adj[i])):\n",
    "        if adj[i][w] == 1 and colour_d[w] == 'white':\n",
    "            pred_d[w] = i\n",
    "            dfs_visit(adj,w)\n",
    "        if colour_d[w] == 'gray':\n",
    "            dag = False\n",
    "    \n",
    "    colour_d[i] = 'black'\n",
    "    t = t + 1\n",
    "    f[i] = t\n",
    "    return colour_d, d, f \n",
    "\n",
    "#arr = [\n",
    "    [0,1,0,0,1,0],\n",
    "    [0,0,1,1,1,0],\n",
    "    [1,0,0,0,0,0],\n",
    "    [0,0,0,0,0,0],\n",
    "    [0,0,1,0,0,0],\n",
    "    [0,0,0,0,1,0],\n",
    "#]\n",
    "#dfs(arr)\n",
    "#print(d)\n",
    "#print(f)\n"
   ]
  },
  {
   "cell_type": "code",
   "execution_count": 127,
   "metadata": {},
   "outputs": [],
   "source": [
    "import numpy as np\n",
    "def isStrongConnected(adj):\n",
    "    \n",
    "    col , d_s, f_s = dfs_visit(adj, 1)\n",
    "    m = len(adj)\n",
    "    print(col)\n",
    "    for i in range(m):\n",
    "        if col[i] != 'black':\n",
    "            return False\n",
    "\n",
    "    arr = np.array(adj)\n",
    "    arr_trans = arr.transpose()\n",
    "\n",
    "    col , d_s, f_s = dfs_visit(arr_trans, 1)\n",
    "\n",
    "    for j in range(m):\n",
    "        print(i)\n",
    "        if col[j] != 'black':\n",
    "            return False\n",
    "    return True"
   ]
  },
  {
   "cell_type": "code",
   "execution_count": 128,
   "metadata": {},
   "outputs": [],
   "source": [
    "#isStrongConnected(arr)"
   ]
  },
  {
   "cell_type": "code",
   "execution_count": 129,
   "metadata": {},
   "outputs": [
    {
     "name": "stdout",
     "output_type": "stream",
     "text": [
      "['white', 'black', 'black', 'white', 'black', 'black', 'black', 'white', 'white', 'white', 'white', 'white']\n"
     ]
    },
    {
     "data": {
      "text/plain": [
       "False"
      ]
     },
     "execution_count": 129,
     "metadata": {},
     "output_type": "execute_result"
    }
   ],
   "source": [
    "arr1 = [\n",
    "    [0,1,0,0,0,0,0],\n",
    "    [0,0,1,0,0,0,0],\n",
    "    [0,0,0,0,1,0,0],\n",
    "    [0,1,0,0,0,0,0],\n",
    "    [0,0,0,0,0,1,0],\n",
    "    [0,0,0,0,0,0,1],\n",
    "    [0,0,0,0,1,0,0],\n",
    "]\n",
    "isStrongConnected(arr1)"
   ]
  },
  {
   "cell_type": "code",
   "execution_count": 130,
   "metadata": {},
   "outputs": [],
   "source": [
    "pred_da = []\n",
    "colour_da = []\n",
    "d = []\n",
    "f = []\n",
    "t = 0\n",
    "dag = True\n",
    "n = 6\n",
    "\n",
    "def isDag(adj):\n",
    "    n = len(adj)\n",
    "    for i in range(n):\n",
    "        if colour_da[i] == 'white':\n",
    "            dfs_visit(adj, i)\n",
    "    return dag\n",
    "\n",
    "def topologicalSort(adj):\n",
    "    S = []\n",
    "    n = len(adj)\n",
    "    for i in range(n):\n",
    "        if colour_da[i] == 'white':\n",
    "            dfs_visit(adj, i, S)\n",
    "    res = []\n",
    "    for i in range(n):\n",
    "        res.append(S.pop())\n",
    "    if dag:\n",
    "        return res\n",
    "\n",
    "    return None\n",
    "\n",
    "def dfs_visit(adj,i, S):\n",
    "    global t\n",
    "    global dag\n",
    "    colour_da[i] = 'gray'\n",
    "    t = t + 1\n",
    "    d[i] = t\n",
    "    for w in range(len(adj[i])):\n",
    "        if adj[i][w] == 1 and colour_da[w] == 'white':\n",
    "            pred_da[w] = i\n",
    "            dfs_visit(adj,w,S)\n",
    "        if adj[i][w] == 1 and colour_da[w] == 'gray':\n",
    "            dag = False\n",
    "    \n",
    "    colour_da[i] = 'black'\n",
    "    S.append(i)\n",
    "    t = t + 1\n",
    "    f[i] = t\n",
    "    return colour_da, d, f "
   ]
  },
  {
   "cell_type": "code",
   "execution_count": 131,
   "metadata": {},
   "outputs": [],
   "source": [
    "for i in range(n):\n",
    "    pred_da.append(None)\n",
    "    colour_da.append('white')\n",
    "    d.append(0)\n",
    "    f.append(0)"
   ]
  },
  {
   "cell_type": "code",
   "execution_count": 132,
   "metadata": {},
   "outputs": [
    {
     "name": "stdout",
     "output_type": "stream",
     "text": [
      "[2, 1, 4, 3, 0, 5]\n"
     ]
    }
   ],
   "source": [
    "arr4 = [\n",
    "    [0,0,0,0,0,1],\n",
    "    [1,0,0,1,1,0],\n",
    "    [0,1,0,0,0,0],\n",
    "    [1,0,0,0,0,0],\n",
    "    [0,0,0,1,0,1],\n",
    "    [0,0,0,0,0,0],\n",
    "]\n",
    "print(topologicalSort(arr4))"
   ]
  },
  {
   "cell_type": "code",
   "execution_count": 133,
   "metadata": {},
   "outputs": [
    {
     "ename": "IndexError",
     "evalue": "list index out of range",
     "output_type": "error",
     "traceback": [
      "\u001b[1;31m---------------------------------------------------------------------------\u001b[0m",
      "\u001b[1;31mIndexError\u001b[0m                                Traceback (most recent call last)",
      "\u001b[1;32m~\\AppData\\Local\\Temp/ipykernel_30160/499641927.py\u001b[0m in \u001b[0;36m<module>\u001b[1;34m\u001b[0m\n\u001b[1;32m----> 1\u001b[1;33m \u001b[0misDag\u001b[0m\u001b[1;33m(\u001b[0m\u001b[0marr1\u001b[0m\u001b[1;33m)\u001b[0m\u001b[1;33m\u001b[0m\u001b[1;33m\u001b[0m\u001b[0m\n\u001b[0m",
      "\u001b[1;32m~\\AppData\\Local\\Temp/ipykernel_30160/3458270491.py\u001b[0m in \u001b[0;36misDag\u001b[1;34m(adj)\u001b[0m\n\u001b[0;32m     10\u001b[0m     \u001b[0mn\u001b[0m \u001b[1;33m=\u001b[0m \u001b[0mlen\u001b[0m\u001b[1;33m(\u001b[0m\u001b[0madj\u001b[0m\u001b[1;33m)\u001b[0m\u001b[1;33m\u001b[0m\u001b[1;33m\u001b[0m\u001b[0m\n\u001b[0;32m     11\u001b[0m     \u001b[1;32mfor\u001b[0m \u001b[0mi\u001b[0m \u001b[1;32min\u001b[0m \u001b[0mrange\u001b[0m\u001b[1;33m(\u001b[0m\u001b[0mn\u001b[0m\u001b[1;33m)\u001b[0m\u001b[1;33m:\u001b[0m\u001b[1;33m\u001b[0m\u001b[1;33m\u001b[0m\u001b[0m\n\u001b[1;32m---> 12\u001b[1;33m         \u001b[1;32mif\u001b[0m \u001b[0mcolour_da\u001b[0m\u001b[1;33m[\u001b[0m\u001b[0mi\u001b[0m\u001b[1;33m]\u001b[0m \u001b[1;33m==\u001b[0m \u001b[1;34m'white'\u001b[0m\u001b[1;33m:\u001b[0m\u001b[1;33m\u001b[0m\u001b[1;33m\u001b[0m\u001b[0m\n\u001b[0m\u001b[0;32m     13\u001b[0m             \u001b[0mdfs_visit\u001b[0m\u001b[1;33m(\u001b[0m\u001b[0madj\u001b[0m\u001b[1;33m,\u001b[0m \u001b[0mi\u001b[0m\u001b[1;33m)\u001b[0m\u001b[1;33m\u001b[0m\u001b[1;33m\u001b[0m\u001b[0m\n\u001b[0;32m     14\u001b[0m     \u001b[1;32mreturn\u001b[0m \u001b[0mdag\u001b[0m\u001b[1;33m\u001b[0m\u001b[1;33m\u001b[0m\u001b[0m\n",
      "\u001b[1;31mIndexError\u001b[0m: list index out of range"
     ]
    }
   ],
   "source": [
    "isDag(arr1)"
   ]
  },
  {
   "cell_type": "code",
   "execution_count": null,
   "metadata": {},
   "outputs": [
    {
     "data": {
      "text/plain": [
       "True"
      ]
     },
     "execution_count": 67,
     "metadata": {},
     "output_type": "execute_result"
    }
   ],
   "source": [
    "arr3 = [\n",
    "    [0,1,0,0,1,1,0],\n",
    "    [0,0,1,1,0,0,0],\n",
    "    [0,0,0,0,0,0,0],\n",
    "    [0,0,0,0,0,0,0],\n",
    "    [0,0,0,0,0,0,0],\n",
    "    [0,0,0,0,0,0,1],\n",
    "    [0,0,0,0,0,0,0],\n",
    "]\n",
    "isDag(arr3)"
   ]
  },
  {
   "cell_type": "code",
   "execution_count": null,
   "metadata": {},
   "outputs": [],
   "source": [
    "def kahn(adj):\n",
    "    indeg = []\n",
    "    n = len(adj)\n",
    "    for i in range(n):\n",
    "        indeg.append(0)\n",
    "\n",
    "    for u in adj:\n",
    "        u = u.head\n",
    "        v = u.next\n",
    "        while v != None:\n",
    "            indeg[v.val - 1] = indeg[v.val - 1] + 1\n",
    "            v = v.next\n",
    "    order = []\n",
    "    q = []\n",
    "    for i in range(n):\n",
    "        if indeg[i] == 0:\n",
    "            q.append(i)\n",
    "\n",
    "    for i in range(n):\n",
    "        if len(q) == 0:\n",
    "            return None\n",
    "        v = q.pop()\n",
    "        order.append(v)\n",
    "        \n",
    "        w = adj[v].head.next\n",
    "        while w != None:\n",
    "            indeg[w.val - 1] = indeg[w.val - 1] - 1\n",
    "            if indeg[w.val - 1] == 0:\n",
    "                q.append(w.val-1)\n",
    "            w = w.next\n",
    "\n",
    "    return order\n",
    "    "
   ]
  },
  {
   "cell_type": "code",
   "execution_count": null,
   "metadata": {},
   "outputs": [
    {
     "name": "stdout",
     "output_type": "stream",
     "text": [
      "[2, 1, 4, 3, 0, 5]\n"
     ]
    }
   ],
   "source": [
    "l1 = LinkedList()\n",
    "l1.head = Node(1)\n",
    "l1_second = Node(6)\n",
    "l1.head.next = l1_second\n",
    "\n",
    "l2 = LinkedList()\n",
    "l2.head = Node(2)\n",
    "l2_second = Node(1)\n",
    "l2_third = Node(4)\n",
    "l2_4 = Node(5)\n",
    "l2.head.next = l2_second\n",
    "l2_second.next = l2_third\n",
    "l2_third.next = l2_4\n",
    "\n",
    "l3 = LinkedList()\n",
    "l3.head = Node(3)\n",
    "l3_second = Node(2)\n",
    "l3.head.next = l3_second\n",
    "\n",
    "l4 = LinkedList()\n",
    "l4.head = Node(4)\n",
    "l4_second = Node(1)\n",
    "l4.head.next = l4_second\n",
    "\n",
    "l5 = LinkedList()\n",
    "l5.head = Node(5)\n",
    "l5_second = Node(4)\n",
    "l5_third = Node(6)\n",
    "l5.head.next = l5_second\n",
    "l5_second.next = l5_third\n",
    "\n",
    "l6 = LinkedList()\n",
    "l6.head = Node(6)\n",
    "\n",
    "arr = [l1,l2,l3,l4,l5,l6]\n",
    "print(kahn(arr))"
   ]
  },
  {
   "cell_type": "code",
   "execution_count": 135,
   "metadata": {},
   "outputs": [],
   "source": [
    "def scc(adj):\n",
    "    dfs(adj)\n",
    "    order = []\n",
    "    n = len(adj)\n",
    "    for i in range(n):\n",
    "        order.append(i)\n",
    "    temp = []\n",
    "    for i in range(n):\n",
    "        temp.append([order[i],f[i]])\n",
    "    temp = sorted(temp,key = lambda x: x[1])\n",
    "    for i in range(n):\n",
    "        order[i] = temp[i][0]\n",
    "\n",
    "    arr = np.array(adj)\n",
    "    arr_trans = arr.transpose()\n",
    "\n",
    "    colour = []\n",
    "    comp = []\n",
    "    for i in range(n):\n",
    "        colour.append('white')\n",
    "        comp.append(0)\n",
    "    scc = 0\n",
    "    for i in range(n):\n",
    "        v = order[i]\n",
    "        if colour[v] == 'white':\n",
    "            scc = scc + 1\n",
    "            sccvisit(adj,v,scc,colour,comp)\n",
    "\n",
    "    return comp\n",
    "\n",
    "def sccvisit(adj,v,scc,colour,comp):\n",
    "    colour[v] = 'gray'\n",
    "    comp[v] = scc\n",
    "\n",
    "    for i in range(len(adj[v])):\n",
    "        if adj[v][i] == 1 and colour[i] == 'white':\n",
    "            sccvisit(adj,i,scc,colour,comp)\n",
    "\n",
    "    colour[v] = 'black'"
   ]
  },
  {
   "cell_type": "code",
   "execution_count": 136,
   "metadata": {},
   "outputs": [
    {
     "data": {
      "text/plain": [
       "[2, 2, 2, 2, 1, 1, 1, 3, 3, 5, 6, 4]"
      ]
     },
     "execution_count": 136,
     "metadata": {},
     "output_type": "execute_result"
    }
   ],
   "source": [
    "arr5 = [\n",
    "    [0,0,0,1,0,0,0,0,0,0,0,0],\n",
    "    [0,0,1,0,0,0,0,0,0,0,0,0],\n",
    "    [1,0,0,0,1,0,0,0,0,0,0,0],\n",
    "    [0,1,0,0,0,0,0,0,0,0,0,0],\n",
    "    [0,0,0,0,0,1,0,0,0,0,0,0],\n",
    "    [0,0,0,0,0,0,1,0,0,0,0,0],\n",
    "    [0,0,0,0,1,0,0,0,0,0,0,0],\n",
    "    [0,0,0,0,0,1,0,0,1,0,0,0],\n",
    "    [0,0,0,0,0,0,0,1,0,0,0,0],\n",
    "    [0,0,0,0,0,0,0,1,0,0,0,1],\n",
    "    [0,0,0,0,0,0,0,0,1,1,0,0],\n",
    "    [0,0,0,0,0,1,0,0,0,0,0,1],\n",
    "]\n",
    "\n",
    "scc(arr5)"
   ]
  }
 ],
 "metadata": {
  "kernelspec": {
   "display_name": "Python 3.9.7 ('base')",
   "language": "python",
   "name": "python3"
  },
  "language_info": {
   "codemirror_mode": {
    "name": "ipython",
    "version": 3
   },
   "file_extension": ".py",
   "mimetype": "text/x-python",
   "name": "python",
   "nbconvert_exporter": "python",
   "pygments_lexer": "ipython3",
   "version": "3.9.7"
  },
  "orig_nbformat": 4,
  "vscode": {
   "interpreter": {
    "hash": "f06979ed25b72b314029b36c994f81b9fb22bd1c4f44d65332b34f91983a234e"
   }
  }
 },
 "nbformat": 4,
 "nbformat_minor": 2
}
