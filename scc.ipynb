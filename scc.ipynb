{
 "cells": [
  {
   "cell_type": "code",
   "execution_count": 2,
   "metadata": {},
   "outputs": [
    {
     "data": {
      "text/plain": [
       "[2, 2, 2, 2, 1, 1, 1, 3, 3, 4, 4, 4]"
      ]
     },
     "execution_count": 2,
     "metadata": {},
     "output_type": "execute_result"
    }
   ],
   "source": [
    "import numpy as np\n",
    "pred_d = []\n",
    "colour_d = []\n",
    "d = []\n",
    "f = []\n",
    "t = 0\n",
    "dag = True\n",
    "n = 12\n",
    "\n",
    "for i in range(n):\n",
    "    pred_d.append(None)\n",
    "    colour_d.append('white')\n",
    "    d.append(0)\n",
    "    f.append(0)\n",
    "\n",
    "def dfs(adj):\n",
    "    for i in range(n):\n",
    "        if colour_d[i] == 'white':\n",
    "            dfs_visit(adj,i)\n",
    "\n",
    "def dfs_visit(adj,i):\n",
    "    global t\n",
    "    global dag\n",
    "    colour_d[i] = 'gray'\n",
    "    t = t + 1\n",
    "    d[i] = t\n",
    "    for w in range(len(adj[i])):\n",
    "        if adj[i][w] == 1 and colour_d[w] == 'white':\n",
    "            pred_d[w] = i\n",
    "            dfs_visit(adj,w)\n",
    "        if colour_d[w] == 'gray':\n",
    "            dag = False\n",
    "    \n",
    "    colour_d[i] = 'black'\n",
    "    t = t + 1\n",
    "    f[i] = t\n",
    "    return colour_d, d, f \n",
    "\n",
    "\n",
    "def scc(adj):\n",
    "    dfs(adj)\n",
    "    order = []\n",
    "    n = len(adj)\n",
    "    for i in range(n):\n",
    "        order.append(i)\n",
    "    temp = []\n",
    "    for i in range(n):\n",
    "        temp.append([order[i],f[i]])\n",
    "    temp = sorted(temp,key = lambda x: x[1])\n",
    "    for i in range(n):\n",
    "        order[i] = temp[i][0]\n",
    "\n",
    "    arr = np.array(adj)\n",
    "    arr_trans = arr.transpose()\n",
    "\n",
    "    colour = []\n",
    "    comp = []\n",
    "    for i in range(n):\n",
    "        colour.append('white')\n",
    "        comp.append(0)\n",
    "    scc = 0\n",
    "    for i in range(n):\n",
    "        v = order[i]\n",
    "        if colour[v] == 'white':\n",
    "            scc = scc + 1\n",
    "            sccvisit(adj,v,scc,colour,comp)\n",
    "\n",
    "    return comp\n",
    "\n",
    "def sccvisit(adj,v,scc,colour,comp):\n",
    "    colour[v] = 'gray'\n",
    "    comp[v] = scc\n",
    "\n",
    "    for i in range(len(adj[v])):\n",
    "        if adj[v][i] == 1 and colour[i] == 'white':\n",
    "            sccvisit(adj,i,scc,colour,comp)\n",
    "\n",
    "    colour[v] = 'black'\n",
    "\n",
    "arr5 = [\n",
    "    [0,0,0,1,0,0,0,0,0,0,0,0],\n",
    "    [0,0,1,0,0,0,0,0,0,0,0,0],\n",
    "    [1,0,0,0,1,0,0,0,0,0,0,0],\n",
    "    [0,1,0,0,0,0,0,0,0,0,0,0],\n",
    "    [0,0,0,0,0,1,0,0,0,0,0,0],\n",
    "    [0,0,0,0,0,0,1,0,0,0,0,0],\n",
    "    [0,0,0,0,1,0,0,0,0,0,0,0],\n",
    "    [0,0,0,0,0,1,0,0,1,0,0,0],\n",
    "    [0,0,0,0,0,0,0,1,0,0,0,0],\n",
    "    [0,0,0,0,0,0,0,1,0,0,0,1],\n",
    "    [0,0,0,0,0,0,0,0,1,1,0,0],\n",
    "    [0,0,0,0,0,1,0,0,0,0,1,0],\n",
    "]\n",
    "\n",
    "scc(arr5)"
   ]
  }
 ],
 "metadata": {
  "kernelspec": {
   "display_name": "Python 3.9.7 ('base')",
   "language": "python",
   "name": "python3"
  },
  "language_info": {
   "codemirror_mode": {
    "name": "ipython",
    "version": 3
   },
   "file_extension": ".py",
   "mimetype": "text/x-python",
   "name": "python",
   "nbconvert_exporter": "python",
   "pygments_lexer": "ipython3",
   "version": "3.9.7"
  },
  "orig_nbformat": 4,
  "vscode": {
   "interpreter": {
    "hash": "f06979ed25b72b314029b36c994f81b9fb22bd1c4f44d65332b34f91983a234e"
   }
  }
 },
 "nbformat": 4,
 "nbformat_minor": 2
}
