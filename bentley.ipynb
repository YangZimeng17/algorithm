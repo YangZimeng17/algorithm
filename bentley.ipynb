{
 "cells": [
  {
   "cell_type": "markdown",
   "metadata": {},
   "source": [
    "Bentley's problem\n",
    "Given an array of n integers, A[1], ..., A[n], find the max sum of consecutive entires of A (return 0 if all entries of A are negative)"
   ]
  },
  {
   "cell_type": "markdown",
   "metadata": {},
   "source": [
    "Solution 1: Brute Force"
   ]
  },
  {
   "cell_type": "code",
   "execution_count": 2,
   "metadata": {},
   "outputs": [],
   "source": [
    "def bent1(a):\n",
    "    max = 0\n",
    "    n = len(a) +1\n",
    "    for i in range (0, n):\n",
    "        for j in range (i, n):\n",
    "            sum = 0\n",
    "            for k in range (i, j):\n",
    "                sum = sum + a[k]\n",
    "            if sum > max:\n",
    "                max = sum\n",
    "    return max"
   ]
  },
  {
   "cell_type": "code",
   "execution_count": 3,
   "metadata": {},
   "outputs": [
    {
     "name": "stdout",
     "output_type": "stream",
     "text": [
      "19\n",
      "0\n",
      "8\n"
     ]
    }
   ],
   "source": [
    "a = [1, 7, 4, 0, 2, 1, 3, 1]\n",
    "b = [-1, -7, -4, -1, -2, -1, -3, -1]\n",
    "c = [1, -7, 4, 0, 2, -1, 3, -1]\n",
    "\n",
    "print(bent1(a))\n",
    "print(bent1(b))\n",
    "print(bent1(c))"
   ]
  },
  {
   "cell_type": "markdown",
   "metadata": {},
   "source": [
    "solution 2: slightly better brute force"
   ]
  },
  {
   "cell_type": "code",
   "execution_count": 4,
   "metadata": {},
   "outputs": [],
   "source": [
    "def bent2(a):\n",
    "    max = 0\n",
    "    n = len(a)\n",
    "    for i in range (0, n):\n",
    "        sum = 0\n",
    "        for j in range (i, n):\n",
    "            sum = sum + a[j]\n",
    "            if sum > max:\n",
    "                max = sum\n",
    "    return max"
   ]
  },
  {
   "cell_type": "code",
   "execution_count": 5,
   "metadata": {},
   "outputs": [
    {
     "name": "stdout",
     "output_type": "stream",
     "text": [
      "19\n",
      "0\n",
      "8\n"
     ]
    }
   ],
   "source": [
    "print(bent2(a))\n",
    "print(bent2(b))\n",
    "print(bent2(c))"
   ]
  },
  {
   "cell_type": "markdown",
   "metadata": {},
   "source": [
    "Solution3: divide and conquer\n",
    "divide the array into 2 equally sized parts, solution must either be entirely in the left or entirely in the right, or must be crossing the partition line\n"
   ]
  },
  {
   "cell_type": "code",
   "execution_count": 6,
   "metadata": {},
   "outputs": [],
   "source": [
    "def bent4(a):\n",
    "    n = len(a)\n",
    "    exclude = []\n",
    "    include = []\n",
    "    for i in range(n):\n",
    "       exclude.append(0)\n",
    "       include.append(0)\n",
    "    \n",
    "    exclude[0] = 0\n",
    "    include[0] = a[0]\n",
    "\n",
    "    for j in range (1, n):\n",
    "        exclude[j] = max(include[j-1], exclude[j-1])\n",
    "        include[j] = max(a[j], a[j] + include[j-1])\n",
    "\n",
    "    return max(exclude[n-1], include[n-1])"
   ]
  },
  {
   "cell_type": "code",
   "execution_count": 7,
   "metadata": {},
   "outputs": [
    {
     "name": "stdout",
     "output_type": "stream",
     "text": [
      "19\n",
      "0\n",
      "8\n"
     ]
    }
   ],
   "source": [
    "print(bent4(a))\n",
    "print(bent4(b))\n",
    "print(bent4(c))"
   ]
  },
  {
   "cell_type": "code",
   "execution_count": 8,
   "metadata": {},
   "outputs": [],
   "source": [
    "def bent3(a):\n",
    "    n = len(a)\n",
    "    if n == 1:\n",
    "        return max(0,a[0])\n",
    "    slice = n//2\n",
    "    maxL = bent3(a[:slice])\n",
    "    maxR = bent3(a[slice +1:])\n",
    "\n",
    "    temp = 0\n",
    "    maxI = 0\n",
    "    for i in range (n//2, 0, -1):\n",
    "        temp = temp + a[i]\n",
    "        if temp > maxI:\n",
    "            maxI = temp\n",
    "    \n",
    "    temp = 0\n",
    "    maxJ = 0\n",
    "    for j in range (n//2+1, n):\n",
    "        temp = temp + a[j]\n",
    "        if temp > maxJ:\n",
    "            maxJ = temp\n",
    "    \n",
    "    maxM = maxI + maxJ\n",
    "    return max(maxL, maxR, maxM)"
   ]
  },
  {
   "cell_type": "code",
   "execution_count": null,
   "metadata": {},
   "outputs": [
    {
     "ename": "",
     "evalue": "",
     "output_type": "error",
     "traceback": [
      "\u001b[1;31mCanceled future for execute_request message before replies were done"
     ]
    },
    {
     "ename": "",
     "evalue": "",
     "output_type": "error",
     "traceback": [
      "\u001b[1;31mThe Kernel crashed while executing code in the the current cell or a previous cell. Please review the code in the cell(s) to identify a possible cause of the failure. Click <a href='https://aka.ms/vscodeJupyterKernelCrash'>here</a> for more info. View Jupyter <a href='command:jupyter.viewOutput'>log</a> for further details."
     ]
    }
   ],
   "source": [
    "print(bent3(a))\n",
    "print(bent3(b))\n",
    "print(bent3(c))"
   ]
  }
 ],
 "metadata": {
  "interpreter": {
   "hash": "f06979ed25b72b314029b36c994f81b9fb22bd1c4f44d65332b34f91983a234e"
  },
  "kernelspec": {
   "display_name": "Python 3.9.7 ('base')",
   "language": "python",
   "name": "python3"
  },
  "language_info": {
   "codemirror_mode": {
    "name": "ipython",
    "version": 3
   },
   "file_extension": ".py",
   "mimetype": "text/x-python",
   "name": "python",
   "nbconvert_exporter": "python",
   "pygments_lexer": "ipython3",
   "version": "3.9.7"
  },
  "orig_nbformat": 4
 },
 "nbformat": 4,
 "nbformat_minor": 2
}
