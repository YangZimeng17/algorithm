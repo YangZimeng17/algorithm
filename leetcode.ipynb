{
 "cells": [
  {
   "cell_type": "code",
   "execution_count": 13,
   "metadata": {},
   "outputs": [],
   "source": [
    "#9\n",
    "def isPalindrome(x):\n",
    "        \"\"\"\n",
    "        :type x: int\n",
    "        :rtype: bool\n",
    "        \"\"\"\n",
    "        if x < 0:\n",
    "            return False\n",
    "        \n",
    "        s_num = str(x)\n",
    "        n = len(s_num)\n",
    "        c = 0\n",
    "        \n",
    "        if n % 2 == 0:\n",
    "            for i in range(n//2):\n",
    "                if s_num[i] == s_num[n - i - 1]:\n",
    "                    c = c + 1\n",
    "            c = c * 2\n",
    "        else:\n",
    "            for i in range(n//2 + 1):\n",
    "                if s_num[i] == s_num[n - i - 1]:\n",
    "                    c = c + 1\n",
    "            c = c * 2 - 1\n",
    "        print(c)\n",
    "        if c == n:\n",
    "            return True\n",
    "        return False"
   ]
  },
  {
   "cell_type": "code",
   "execution_count": 37,
   "metadata": {},
   "outputs": [],
   "source": [
    "import math\n",
    "def isPalindrome2(x):\n",
    "    if x < 0:\n",
    "        return False\n",
    "    s_num = str(x)\n",
    "    n = len(s_num)\n",
    "    i = 0\n",
    "    \n",
    "    if n == 1:\n",
    "        return True\n",
    "\n",
    "    while s_num[i] == s_num[n-i-1] and i < n/2:\n",
    "        i = i + 1\n",
    "\n",
    "    return i == math.ceil(n/2)\n",
    "\n"
   ]
  },
  {
   "cell_type": "code",
   "execution_count": 38,
   "metadata": {},
   "outputs": [
    {
     "name": "stdout",
     "output_type": "stream",
     "text": [
      "True\n",
      "False\n",
      "True\n",
      "True\n",
      "False\n"
     ]
    }
   ],
   "source": [
    "a = 121\n",
    "b = -121\n",
    "c = 0\n",
    "d = 1221\n",
    "e = 12345\n",
    "print(isPalindrome2(a))\n",
    "print(isPalindrome2(b))\n",
    "print(isPalindrome2(c))\n",
    "print(isPalindrome2(d))\n",
    "print(isPalindrome2(e))"
   ]
  },
  {
   "cell_type": "code",
   "execution_count": 26,
   "metadata": {},
   "outputs": [],
   "source": [
    "#13\n",
    "def romanToInt(s):\n",
    "        \"\"\"\n",
    "        :type s: str\n",
    "        :rtype: int\n",
    "        \"\"\"\n",
    "        n = len(s)\n",
    "        res = 0\n",
    "        roman = [['I', 1], ['V', 5], ['X', 10], ['L', 50], ['C', 100],['D', 500], ['M', 1000]]\n",
    "\n",
    "        for i in range(n - 1):\n",
    "                current = s[i]\n",
    "                next = s[i + 1]\n",
    "                current_i = [x for x in roman if current in x][0]\n",
    "                current_i = roman.index(current_i)\n",
    "                next_i = [x for x in roman if next in x][0]\n",
    "                next_i = roman.index(next_i)\n",
    "                if current_i < next_i:\n",
    "                        res = res - roman[current_i][1]\n",
    "                else:\n",
    "                        res = res + roman[current_i][1]\n",
    "\n",
    "        current_i = [x for x in roman if s[n-1] in x][0]\n",
    "        current_i = roman.index(current_i)\n",
    "        return res + roman[current_i][1]\n",
    "\n",
    "\n",
    "\n",
    "    "
   ]
  },
  {
   "cell_type": "code",
   "execution_count": 27,
   "metadata": {},
   "outputs": [
    {
     "name": "stdout",
     "output_type": "stream",
     "text": [
      "3\n",
      "58\n",
      "1994\n"
     ]
    }
   ],
   "source": [
    "a = 'III'\n",
    "b = 'LVIII'\n",
    "c =  'MCMXCIV'\n",
    "print(romanToInt(a))\n",
    "print(romanToInt(b))\n",
    "print(romanToInt(c))"
   ]
  },
  {
   "cell_type": "code",
   "execution_count": 1,
   "metadata": {},
   "outputs": [],
   "source": [
    "class ListNode(object):\n",
    "    def __init__(self, val=0, next=None):\n",
    "        self.val = val\n",
    "        self.next = next\n",
    "def addTwoNumbers(l1, l2):\n",
    "    head = None\n",
    "    temp = None\n",
    "    carry = 0\n",
    "\n",
    "    while l1 != None or l2 != None:\n",
    "        sum = carry\n",
    "        if l1 != None:\n",
    "            sum = sum + l1.val\n",
    "            l1 = l1.next\n",
    "        if l2 != None:\n",
    "            sum = sum + l2.val\n",
    "            l2 = l2.next\n",
    "        \n",
    "        x = ListNode(sum % 10)\n",
    "        carry = sum // 10\n",
    "\n",
    "        if temp == None:\n",
    "            head = x\n",
    "            temp = head\n",
    "            \n",
    "        else:\n",
    "            temp.next = x\n",
    "            temp = temp.next\n",
    "    if carry > 0:\n",
    "        temp.next = ListNode(carry)\n",
    "\n",
    "    return head"
   ]
  },
  {
   "cell_type": "code",
   "execution_count": 12,
   "metadata": {},
   "outputs": [],
   "source": [
    "def lengthOfLongestSubstring(s):\n",
    "    \"\"\"\n",
    "    :type s: str\n",
    "    :rtype: int\n",
    "    \"\"\"\n",
    "    n = len(s)\n",
    "\n",
    "    if s == '':\n",
    "        return 0\n",
    "    if n == 1:\n",
    "        return 1\n",
    "\n",
    "    store = []\n",
    "    start = 0\n",
    "    i = 0\n",
    "    res = 0\n",
    "    while i < n:\n",
    "        print(store)\n",
    "        if s[i] not in store:\n",
    "            store.append(s[i])\n",
    "            res = max(res, i - start + 1)\n",
    "            i = i + 1\n",
    "        else:\n",
    "            start = start + 1\n",
    "            store.remove(s[start - 1])\n",
    "\n",
    "    return res\n",
    "        \n",
    "        \n",
    "\n",
    "        "
   ]
  },
  {
   "cell_type": "code",
   "execution_count": 13,
   "metadata": {},
   "outputs": [
    {
     "name": "stdout",
     "output_type": "stream",
     "text": [
      "[]\n",
      "['a']\n",
      "['a', 'b']\n",
      "['a', 'b', 'c']\n",
      "['b', 'c']\n",
      "['b', 'c', 'a']\n",
      "['c', 'a']\n",
      "['c', 'a', 'b']\n",
      "['a', 'b']\n",
      "['a', 'b', 'c']\n",
      "['b', 'c']\n",
      "['c']\n",
      "['c', 'b']\n",
      "['b']\n",
      "[]\n",
      "3\n"
     ]
    }
   ],
   "source": [
    "s = 'abcabcbb'\n",
    "print(lengthOfLongestSubstring(s))"
   ]
  },
  {
   "cell_type": "code",
   "execution_count": 14,
   "metadata": {},
   "outputs": [
    {
     "name": "stdout",
     "output_type": "stream",
     "text": [
      "[]\n",
      "['b']\n",
      "[]\n",
      "['b']\n",
      "[]\n",
      "['b']\n",
      "[]\n",
      "['b']\n",
      "[]\n",
      "1\n"
     ]
    }
   ],
   "source": [
    "s = \"bbbbb\"\n",
    "print(lengthOfLongestSubstring(s))"
   ]
  },
  {
   "cell_type": "code",
   "execution_count": 15,
   "metadata": {},
   "outputs": [
    {
     "name": "stdout",
     "output_type": "stream",
     "text": [
      "[]\n",
      "['p']\n",
      "['p', 'w']\n",
      "['w']\n",
      "[]\n",
      "['w']\n",
      "['w', 'k']\n",
      "['w', 'k', 'e']\n",
      "['k', 'e']\n",
      "3\n"
     ]
    }
   ],
   "source": [
    "s = \"pwwkew\"\n",
    "print(lengthOfLongestSubstring(s))"
   ]
  },
  {
   "cell_type": "code",
   "execution_count": 30,
   "metadata": {},
   "outputs": [],
   "source": [
    "def convert(s, numRows):\n",
    "    \"\"\"\n",
    "    :type s: str\n",
    "    :type numRows: int\n",
    "    :rtype: str\n",
    "    \"\"\"\n",
    "    if numRows == 1:\n",
    "        return s\n",
    "\n",
    "    res = ''\n",
    "    gap = 2 * numRows - 2\n",
    "\n",
    "    for i in range(numRows):\n",
    "        for j in range(i, len(s), gap):\n",
    "            if i == 0 or i == numRows - 1 or j == len(s) - 1:\n",
    "                res = res + s[j]\n",
    "            elif (j + gap - 2*i) < len(s):\n",
    "                res = res + s[j]\n",
    "                res = res + s[j + gap - 2*i]\n",
    "            elif j < len(s):\n",
    "                res = res + s[j]\n",
    "    return res\n"
   ]
  },
  {
   "cell_type": "code",
   "execution_count": 31,
   "metadata": {},
   "outputs": [
    {
     "name": "stdout",
     "output_type": "stream",
     "text": [
      "abc\n"
     ]
    }
   ],
   "source": [
    "s = 'abc'\n",
    "res = convert(s,3)\n",
    "print(res)"
   ]
  },
  {
   "cell_type": "code",
   "execution_count": 1,
   "metadata": {},
   "outputs": [],
   "source": [
    "def reverse(x):\n",
    "    res = 0\n",
    "    neg = False\n",
    "\n",
    "    if x < 0:\n",
    "        neg = True\n",
    "        x = -1 * x\n",
    "    while x:\n",
    "        res = res * 10 + x % 10\n",
    "        x = x // 10\n",
    "\n",
    "    if res <= -2**31 or res >= 2**31 - 1:\n",
    "        return 0\n",
    "    if neg == False:\n",
    "        return res\n",
    "    return -1*res"
   ]
  },
  {
   "cell_type": "code",
   "execution_count": 2,
   "metadata": {},
   "outputs": [
    {
     "name": "stdout",
     "output_type": "stream",
     "text": [
      "321\n",
      "-321\n",
      "21\n",
      "0\n"
     ]
    }
   ],
   "source": [
    "a = 123\n",
    "b = -123\n",
    "c = 1200\n",
    "d = 2**32\n",
    "print(reverse(a))\n",
    "print(reverse(b))\n",
    "print(reverse(c))\n",
    "print(reverse(d))"
   ]
  },
  {
   "cell_type": "code",
   "execution_count": 21,
   "metadata": {},
   "outputs": [],
   "source": [
    "def myAtoi(s):\n",
    "    s = s.strip()\n",
    "    n = len(s)\n",
    "    if s == None or n < 1:\n",
    "        return 0\n",
    "    neg = False\n",
    "    pos = False\n",
    "    res = 0\n",
    "    i = 0\n",
    "\n",
    "    if s[0] == '-':\n",
    "        neg = True\n",
    "        i = i + 1\n",
    "    elif s[0] == '+':\n",
    "        pos = True\n",
    "        i = i + 1\n",
    "\n",
    "\n",
    "    while i < n and '0' <= s[i] <= '9':\n",
    "        res = res * 10 + int(s[i])\n",
    "        i = i + 1\n",
    "\n",
    "    if neg:\n",
    "        res = -1 * res\n",
    "    \n",
    "    if res < -2**31:\n",
    "        return -2 ** 31\n",
    "    if res > 2 ** 31 - 1:\n",
    "        return 2 ** 31 - 1\n",
    "    return res"
   ]
  },
  {
   "cell_type": "code",
   "execution_count": 22,
   "metadata": {},
   "outputs": [
    {
     "name": "stdout",
     "output_type": "stream",
     "text": [
      "0\n",
      "-42\n",
      "4193\n"
     ]
    }
   ],
   "source": [
    "a = \" \"\n",
    "b = \"   -42\"\n",
    "c = \"4193 with words\"\n",
    "print(myAtoi(a))\n",
    "print(myAtoi(b))\n",
    "print(myAtoi(c))"
   ]
  },
  {
   "cell_type": "code",
   "execution_count": 32,
   "metadata": {},
   "outputs": [],
   "source": [
    "def findMedianSortedArrays(nums1, nums2):\n",
    "\n",
    "    n = len(nums1)\n",
    "    m = len(nums2)\n",
    "    res = []\n",
    "\n",
    "    i = 0\n",
    "    j = 0\n",
    "\n",
    "    while i < n and j < m:\n",
    "        if nums1[i] < nums2[j]:\n",
    "            res.append(nums1[i])\n",
    "            i = i + 1\n",
    "        else:\n",
    "            res.append(nums2[j])\n",
    "            j = j + 1\n",
    "\n",
    "    while i < n:\n",
    "        res.append(nums1[i])\n",
    "        i = i + 1\n",
    "    \n",
    "    while j < m:\n",
    "        res.append(nums2[j])\n",
    "        j = j + 1\n",
    "    l = len(res)\n",
    "    if l % 2 != 0:\n",
    "        return res[l//2]\n",
    "    else:\n",
    "        return (res[l//2-1] + res[l//2])/2\n",
    "    "
   ]
  },
  {
   "cell_type": "code",
   "execution_count": 33,
   "metadata": {},
   "outputs": [
    {
     "name": "stdout",
     "output_type": "stream",
     "text": [
      "2\n"
     ]
    }
   ],
   "source": [
    "nums1 = []\n",
    "nums2 = [2]\n",
    "print(findMedianSortedArrays(nums1, nums2))"
   ]
  },
  {
   "cell_type": "code",
   "execution_count": 76,
   "metadata": {},
   "outputs": [],
   "source": [
    "'''\n",
    "def longestPalindrome(s):\n",
    "    n = len(s)\n",
    "    mem = []\n",
    "    for i in range(n):\n",
    "        mem.append([])\n",
    "        for j in range(n):\n",
    "            mem[i].append(0)\n",
    "    #1 2\n",
    "    max = 1\n",
    "    start = 0\n",
    "    for i in range(n):\n",
    "        mem[i][i] = 1\n",
    "        if i < n-1:\n",
    "            if s[i] == s[i+1]:\n",
    "                mem[i][i+1] = 1\n",
    "                start = i\n",
    "                max = 2\n",
    "\n",
    "    #>2\n",
    "    for k in range(3,n+1):\n",
    "        for i in range(n - k + 1):\n",
    "            j = i + k - 1\n",
    "            if mem[i + 1][j - 1] and s[i] == s[j]:\n",
    "                mem[i][j] = 1\n",
    "                if k > max:\n",
    "                    start = i\n",
    "                    max = k\n",
    "    print(max)\n",
    "    return s[start:start + max]\n",
    "    '''"
   ]
  },
  {
   "cell_type": "code",
   "execution_count": 58,
   "metadata": {},
   "outputs": [],
   "source": [
    "def longestPalindrome(s):\n",
    "    n = len(s)\n",
    "    start = 0\n",
    "    end = 0\n",
    "    max = 1\n",
    "\n",
    "    for i in range(n):\n",
    "        if (n - i - 1) * 2 + 1 < max:\n",
    "            break\n",
    "\n",
    "        curent = 1\n",
    "        next_i = i - 1\n",
    "        next_j = i + 1\n",
    "        while next_i >= 0 and next_j < n and s[next_i] == s[next_j]:\n",
    "            curent = curent + 2\n",
    "            next_i = next_i - 1\n",
    "            next_j = next_j + 1\n",
    "        if curent > max:\n",
    "            max = curent\n",
    "            start = next_i + 1\n",
    "            end = next_j - 1\n",
    "        \n",
    "        curent = 0\n",
    "        next_i = i\n",
    "        next_j = i + 1\n",
    "        while next_i >= 0 and next_j < n and s[next_i] == s[next_j]:\n",
    "            curent = curent + 2\n",
    "            next_i = next_i - 1\n",
    "            next_j = next_j + 1\n",
    "        if curent > max:\n",
    "            max = curent\n",
    "            start = next_i + 1\n",
    "            end = next_j - 1\n",
    "\n",
    "    return s[start:end + 1]\n",
    "\n"
   ]
  },
  {
   "cell_type": "code",
   "execution_count": 61,
   "metadata": {},
   "outputs": [
    {
     "name": "stdout",
     "output_type": "stream",
     "text": [
      "bb\n"
     ]
    }
   ],
   "source": [
    "s = \"cbbd\"\n",
    "print(longestPalindrome(s))"
   ]
  }
 ],
 "metadata": {
  "interpreter": {
   "hash": "0ff0b96145d8220c61704a8b4e747ca76dd69172e5ad0b81508c76a8026a7718"
  },
  "kernelspec": {
   "display_name": "Python 3.10.1 64-bit",
   "language": "python",
   "name": "python3"
  },
  "language_info": {
   "codemirror_mode": {
    "name": "ipython",
    "version": 3
   },
   "file_extension": ".py",
   "mimetype": "text/x-python",
   "name": "python",
   "nbconvert_exporter": "python",
   "pygments_lexer": "ipython3",
   "version": "3.10.1"
  },
  "orig_nbformat": 4
 },
 "nbformat": 4,
 "nbformat_minor": 2
}
