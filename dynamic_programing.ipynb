{
 "cells": [
  {
   "cell_type": "code",
   "execution_count": 35,
   "metadata": {},
   "outputs": [],
   "source": [
    "def rodcutting(n, p):\n",
    "    M = []\n",
    "    for i in range(n):\n",
    "        M.append(0)\n",
    "    for k in range(n):\n",
    "        M[k] = p[k]\n",
    "        for j in range(k-2):\n",
    "            \n",
    "            M[k] = max(M[k], M[j] + M[k - j])\n",
    "        \n",
    "    \n",
    "    return M[n-1]"
   ]
  },
  {
   "cell_type": "code",
   "execution_count": 36,
   "metadata": {},
   "outputs": [
    {
     "name": "stdout",
     "output_type": "stream",
     "text": [
      "[1, 5, 8, 9]\n",
      "[1, 5, 8, 10]\n",
      "10\n"
     ]
    }
   ],
   "source": [
    "n = 4\n",
    "p = [1,5,8,9]\n",
    "out = rodcutting(n,p)\n",
    "print(out)"
   ]
  },
  {
   "cell_type": "code",
   "execution_count": 24,
   "metadata": {},
   "outputs": [],
   "source": [
    "def knapsack01(p,w,M):\n",
    "    n = len(p)\n",
    "    P = []\n",
    "    for i in range(n):\n",
    "        P.append([])\n",
    "        for j in range(M + 1):\n",
    "            P[i].append(0)\n",
    "    \n",
    "    for m in range(M + 1):\n",
    "        if m <w[0]:\n",
    "            P[0][m] = 0\n",
    "        else:\n",
    "            P[0][m] = p[0]\n",
    "    \n",
    "    for k in range(1, n):\n",
    "        for n in range(M + 1):\n",
    "            if n < w[k]:\n",
    "                P[k][n] = P[k-1][n]\n",
    "            else:\n",
    "                P[k][n] = max(P[k-1][n], p[k] + P[k-1][n-w[k]])\n",
    "    return (P[len(p) - 1][M], P)\n",
    "\n",
    "def knapsack01_items(p,w,M,P):\n",
    "    x = []\n",
    "    n = len(p)\n",
    "    for i in range(n):\n",
    "        x.append(0)\n",
    "    j = n - 1\n",
    "    m = M - 1\n",
    "\n",
    "    while j > 1:\n",
    "        if P[j][m] == P[j - 1][m]:\n",
    "            x[j] = 0\n",
    "            j = j - 1\n",
    "        else:\n",
    "            x[j] = 1\n",
    "            m = m - w[j]\n",
    "            j = j - 1\n",
    "    \n",
    "    x[0] = 1 if (P[j][m] > 0) else 0\n",
    "    res = []\n",
    "    n = len(x)\n",
    "    for i in range(n):\n",
    "        if x[i] == 1:\n",
    "            res.append([p[i],w[i]])\n",
    "    return (x, res)\n"
   ]
  },
  {
   "cell_type": "code",
   "execution_count": 25,
   "metadata": {},
   "outputs": [
    {
     "name": "stdout",
     "output_type": "stream",
     "text": [
      "18\n",
      "[1, 0, 0, 1, 0, 1]\n",
      "[[1, 2], [5, 8], [10, 16]]\n"
     ]
    }
   ],
   "source": [
    "p = [1,2,3,5,7,10]\n",
    "w = [2,3,5,8,13,16]\n",
    "(res, P) = knapsack01(p,w,30)\n",
    "print(res)\n",
    "(x, items) = knapsack01_items(p,w,30,P)\n",
    "print(x)\n",
    "print(items)"
   ]
  },
  {
   "cell_type": "code",
   "execution_count": 41,
   "metadata": {},
   "outputs": [],
   "source": [
    "import math\n",
    "def coinChangingDP(d, T):\n",
    "    n = len(d)\n",
    "    N = []\n",
    "    J = []\n",
    "    for i in range(n):\n",
    "        N.append([])\n",
    "        J.append([])\n",
    "        for j in range(T + 1):\n",
    "            N[i].append(0)\n",
    "            J[i].append(0)\n",
    "\n",
    "    for t in range(T + 1):\n",
    "        N[0][t] = t\n",
    "        J[0][t] = t\n",
    "\n",
    "    for i in range(1, n):\n",
    "        for t in range(T + 1):\n",
    "            N[i][t] = N[i-1][t]\n",
    "            J[i][t] = 0\n",
    "\n",
    "            for j in range(math.floor(t/d[i])):\n",
    "                if N[i-1][t-j*d[i]] < N[i][t]:\n",
    "                    N[i][t] = j + N[i-1][t-j*d[i]]\n",
    "                    J[i][t] = j\n",
    "    \n",
    "    return (N[n - 1][T], N, J)\n",
    "\n",
    "def coinChangingDP_coins(d, J):\n",
    "    counts = []\n",
    "    n = len(d)\n",
    "    for i in range(n):\n",
    "        counts.append(0)\n",
    "\n",
    "    t = len(J[0]) - 1\n",
    "\n",
    "    for i in range(n - 1, -1, -1):\n",
    "        \n",
    "        counts[i] = J[i][t]\n",
    "        t = t - counts[i]*d[i]\n",
    "\n",
    "    return counts\n"
   ]
  },
  {
   "cell_type": "code",
   "execution_count": 42,
   "metadata": {},
   "outputs": [
    {
     "name": "stdout",
     "output_type": "stream",
     "text": [
      "14\n",
      "[5, 1, 2, 5, 1]\n"
     ]
    }
   ],
   "source": [
    "D = [1,5,10,25,100]\n",
    "(n, N, J) = coinChangingDP(D, 255)\n",
    "print(n)\n",
    "counts = coinChangingDP_coins(D,J)\n",
    "\n",
    "print(counts)"
   ]
  },
  {
   "cell_type": "code",
   "execution_count": 181,
   "metadata": {},
   "outputs": [],
   "source": [
    "def LCS(x,y):\n",
    "    m = len(x)\n",
    "    n = len(y)\n",
    "    c = []\n",
    "    p = []\n",
    "    for i in range(n+1):\n",
    "        c.append([])\n",
    "        p.append([])\n",
    "        for j in range(m+1):\n",
    "            c[i].append(0)\n",
    "            p[i].append(0)\n",
    "    for i in range(1,m+1):\n",
    "        for j in range(1,n+1):\n",
    "\n",
    "            if x[i-1] == y[j-1]:\n",
    "                c[j][i] = c[j-1][i-1] + 1\n",
    "                p[j][i] = 'IJ'\n",
    "            elif c[j][i-1] > c[j-1][i]:\n",
    "                c[j][i] = c[j][i-1]\n",
    "                p[j][i] = 'I'\n",
    "            else:\n",
    "                c[j][i] = c[j-1][i]\n",
    "                p[j][i] = 'J'\n",
    "    \n",
    "    return c,p\n",
    "\n",
    "def findlcs(c,p,x):\n",
    "    lcs = ''\n",
    "    i = len(c[0]) -1\n",
    "    j = len(c) -1\n",
    "    \n",
    "    while i >0 and j >0:\n",
    "        if p[j][i] == 'IJ':\n",
    "            lcs = x[i-1] + lcs\n",
    "            i = i - 1\n",
    "            j = j - 1\n",
    "        elif p[j][i] =='J':\n",
    "            j = j - 1\n",
    "        else:\n",
    "            i = i - 1\n",
    "    return lcs"
   ]
  },
  {
   "cell_type": "code",
   "execution_count": 182,
   "metadata": {},
   "outputs": [
    {
     "name": "stdout",
     "output_type": "stream",
     "text": [
      "abraca\n"
     ]
    }
   ],
   "source": [
    "x = 'abracaz'\n",
    "y = 'azbracadab'\n",
    "c,p = LCS(x,y)\n",
    "lcs = findlcs(c,p,x)\n",
    "print(lcs)"
   ]
  },
  {
   "cell_type": "code",
   "execution_count": 183,
   "metadata": {},
   "outputs": [
    {
     "name": "stdout",
     "output_type": "stream",
     "text": [
      "abraca\n"
     ]
    }
   ],
   "source": [
    "x = 'abracaz'\n",
    "y = 'azbracadab'\n",
    "c,p = LCS(y,x)\n",
    "lcs = findlcs(c,p,y)\n",
    "print(lcs)"
   ]
  },
  {
   "cell_type": "code",
   "execution_count": 184,
   "metadata": {},
   "outputs": [
    {
     "name": "stdout",
     "output_type": "stream",
     "text": [
      "gvet\n"
     ]
    }
   ],
   "source": [
    "x = 'gdvegta'\n",
    "y = 'gvcekst'\n",
    "c,p = LCS(x,y)\n",
    "lcs = findlcs(c,p,x)\n",
    "print(lcs)"
   ]
  },
  {
   "cell_type": "code",
   "execution_count": 72,
   "metadata": {},
   "outputs": [],
   "source": [
    "from math import sqrt\n",
    "MAX = 1000000.0\n",
    "\n",
    "def dist(p1, p2):\n",
    "    return sqrt((p1[0] - p2[0])*(p1[0] - p2[0]) + (p1[1] - p2[1])*(p1[1] - p2[1]))\n",
    "\n",
    "def peri(points, i, j, k):\n",
    "    p1 = points[i]\n",
    "    p2 = points[j]\n",
    "    p3 = points[k]\n",
    "    return dist(p1, p2) + dist(p2, p3) + dist(p3, p1)\n",
    "\n",
    "def minimun_peri(points, i, j):\n",
    "\n",
    "    if (j < i + 2):\n",
    "        return 0\n",
    "\n",
    "    res = MAX\n",
    "    \n",
    "    for k in range(i + 1, j):\n",
    "        res = min(res, (minimun_peri(points, i, k) + minimun_peri(points, k, j) + peri(points, i, k, j)))\n",
    "     \n",
    "    return res\n",
    " "
   ]
  }
 ],
 "metadata": {
  "interpreter": {
   "hash": "0ff0b96145d8220c61704a8b4e747ca76dd69172e5ad0b81508c76a8026a7718"
  },
  "kernelspec": {
   "display_name": "Python 3.10.1 64-bit",
   "language": "python",
   "name": "python3"
  },
  "language_info": {
   "codemirror_mode": {
    "name": "ipython",
    "version": 3
   },
   "file_extension": ".py",
   "mimetype": "text/x-python",
   "name": "python",
   "nbconvert_exporter": "python",
   "pygments_lexer": "ipython3",
   "version": "3.10.1"
  },
  "orig_nbformat": 4
 },
 "nbformat": 4,
 "nbformat_minor": 2
}
