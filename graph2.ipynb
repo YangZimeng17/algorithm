{
 "cells": [
  {
   "cell_type": "code",
   "execution_count": 24,
   "metadata": {},
   "outputs": [],
   "source": [
    "class UnionFind:\n",
    "\n",
    "    def __init__(self, n):\n",
    "\n",
    "        self._parent = []\n",
    "        self._rank = []\n",
    "        for i in range(0, n):\n",
    "            self._rank.append(0)\n",
    "            self._parent.append(i)\n",
    "\n",
    "\n",
    "    def close(self):\n",
    "        Arrays.delete_array(self._parent)\n",
    "        Arrays.delete_array(self._rank)\n",
    "\n",
    "    def _find(self, u):\n",
    "        if type(u) == str:\n",
    "            u = ord(u) - 97\n",
    "        if u != self._parent[u]:\n",
    "            self._parent[u] = self._find(self._parent[u])\n",
    "        return self._parent[u]\n",
    "\n",
    "    def _merge(self, x, y):\n",
    "        x = self._find(x)\n",
    "        y = self._find(y)\n",
    "        if self._rank[x] > self._rank[y]:\n",
    "            self._parent[y] = x\n",
    "        else:\n",
    "            self._parent[x] = y\n",
    "        if self._rank[x] == self._rank[y]:\n",
    "            self._rank[y] += 1\n",
    "\n",
    "class Arrays:\n",
    "    @staticmethod\n",
    "    def delete_array(array):\n",
    "        for element in array:\n",
    "            if element is not None:\n",
    "                element.close()\n"
   ]
  },
  {
   "cell_type": "code",
   "execution_count": 26,
   "metadata": {},
   "outputs": [],
   "source": [
    "def kruskal(V, E):\n",
    "    sortedE = sorted(E,key = lambda x: x[2])\n",
    "    n = len(sortedE)\n",
    "    m = len(V)\n",
    "    uf = UnionFind(m)\n",
    "    mst = []\n",
    "    \n",
    "    for i in range(n):\n",
    "        seta = uf._find(sortedE[i][0])\n",
    "        setb = uf._find(sortedE[i][1])\n",
    "        if seta != setb:\n",
    "            mst.append(sortedE[i])\n",
    "            uf._merge(seta, setb)\n",
    "\n",
    "    return mst"
   ]
  },
  {
   "cell_type": "code",
   "execution_count": 18,
   "metadata": {},
   "outputs": [
    {
     "data": {
      "text/plain": [
       "True"
      ]
     },
     "execution_count": 18,
     "metadata": {},
     "output_type": "execute_result"
    }
   ],
   "source": [
    "ord('a') - 96\n",
    "type(1) == int\n",
    "#type('a')"
   ]
  },
  {
   "cell_type": "code",
   "execution_count": 27,
   "metadata": {},
   "outputs": [
    {
     "data": {
      "text/plain": [
       "[['e', 'f', 1],\n",
       " ['a', 'd', 2],\n",
       " ['d', 'b', 3],\n",
       " ['j', 'k', 4],\n",
       " ['h', 'j', 5],\n",
       " ['l', 'k', 6],\n",
       " ['a', 'c', 7],\n",
       " ['b', 'e', 9],\n",
       " ['f', 'h', 10],\n",
       " ['i', 'j', 12],\n",
       " ['g', 'i', 13]]"
      ]
     },
     "execution_count": 27,
     "metadata": {},
     "output_type": "execute_result"
    }
   ],
   "source": [
    "E = [\n",
    "    ['a','c',7],\n",
    "    ['a','d',2],\n",
    "    ['d','b',3],\n",
    "    ['b','c',8],\n",
    "    ['d','e',11],\n",
    "    ['b','e',9],\n",
    "    ['c','e',16],\n",
    "    ['c','f',14],\n",
    "    ['e','f',1],\n",
    "    ['e','g',17],\n",
    "    ['f','g',15],\n",
    "    ['f','h',10],\n",
    "    ['g','i',13],\n",
    "    ['f','l',18],\n",
    "    ['h','j',5],\n",
    "    ['i','j',12],\n",
    "    ['i','k',20],\n",
    "    ['j','l',19],\n",
    "    ['j','k',4],\n",
    "    ['l','k',6]\n",
    "]\n",
    "V = ['a','b','c','d','e','f','g','h','i','j','k','l']\n",
    "kruskal(V, E)"
   ]
  },
  {
   "cell_type": "code",
   "execution_count": 31,
   "metadata": {},
   "outputs": [],
   "source": [
    "import math\n",
    "import heapq\n",
    "def dijkstra(adj, s,w):\n",
    "    n = len(adj)\n",
    "    pred = []\n",
    "    dist = []\n",
    "    inf = math.inf\n",
    "    for i in range(n):\n",
    "        pred.append(None)\n",
    "        dist.append(inf)\n",
    "    pq = []\n",
    "\n",
    "    dist[s] = 0\n",
    "    for u in range(n):\n",
    "        heapq.heappush(pq,(u,dist[u]))\n",
    "\n",
    "    while len(pq) != 0:\n",
    "        u = heapq.heappop(pq)\n",
    "        u = u[0]\n",
    "        for v in range(len(adj[u])):\n",
    "            if adj[u][v] == 1:\n",
    "                if dist[u] + w[u][v] < dist[v]:\n",
    "                    dist[v] = dist[u] + w[u][v]\n",
    "                    pred[v] = u\n",
    "                    heapq.heappush(pq,(v,dist[v]))\n",
    "    return pred, dist\n"
   ]
  },
  {
   "cell_type": "code",
   "execution_count": 32,
   "metadata": {},
   "outputs": [
    {
     "data": {
      "text/plain": [
       "([None, 3, 0, 0, 2, 4, 5, 5, 9, 7, 11, 9],\n",
       " [0, 5, 7, 2, 23, 24, 39, 45, 67, 54, 61, 55])"
      ]
     },
     "execution_count": 32,
     "metadata": {},
     "output_type": "execute_result"
    }
   ],
   "source": [
    "adj = [\n",
    "    [0,0,1,1,0,0,0,0,0,0,0,0],\n",
    "    [0,0,1,0,0,0,0,0,0,0,0,0],\n",
    "    [0,0,0,0,1,0,0,0,0,0,0,0],\n",
    "    [0,1,0,0,0,0,0,0,0,0,0,0],\n",
    "    [0,1,0,1,0,1,0,0,0,0,0,0],\n",
    "    [0,0,1,0,0,0,1,1,0,0,0,0],\n",
    "    [0,0,0,0,1,0,0,0,0,0,0,0],\n",
    "    [0,0,0,0,0,1,0,0,0,1,0,0],\n",
    "    [0,0,0,0,0,0,1,0,0,0,0,0],\n",
    "    [0,0,0,0,0,0,0,1,1,0,0,1],\n",
    "    [0,0,0,0,0,0,0,0,1,1,0,0],\n",
    "    [0,0,0,0,0,1,0,0,0,0,1,0],\n",
    "]\n",
    "\n",
    "w = [\n",
    "    [0,0,7,2,0,0,0,0,0,0,0,0],\n",
    "    [0,0,8,0,0,0,0,0,0,0,0,0],\n",
    "    [0,0,0,0,16,0,0,0,0,0,0,0],\n",
    "    [0,3,0,0,0,0,0,0,0,0,0,0],\n",
    "    [0,22,0,11,0,1,0,0,0,0,0,0],\n",
    "    [0,0,14,0,0,0,15,21,0,0,0,0],\n",
    "    [0,0,0,0,17,0,0,0,0,0,0,0],\n",
    "    [0,0,0,0,0,10,0,0,0,9,0,0],\n",
    "    [0,0,0,0,0,0,13,0,0,0,0,0],\n",
    "    [0,0,0,0,0,0,0,5,13,0,0,1],\n",
    "    [0,0,0,0,0,0,0,0,20,4,0,0],\n",
    "    [0,0,0,0,0,18,0,0,0,0,6,0],\n",
    "]\n",
    "dijkstra(adj,0,w)"
   ]
  },
  {
   "cell_type": "code",
   "execution_count": 33,
   "metadata": {},
   "outputs": [],
   "source": [
    "def bellmanFord(n, E, s):\n",
    "    pred = []\n",
    "    d = []\n",
    "    inf = math.inf\n",
    "    for i in range(n):\n",
    "        pred.append(None)\n",
    "        d.append(inf)\n",
    "    d[s] = 0\n",
    "    for i in range(n):\n",
    "        changed = False\n",
    "        for (u,v,w) in E:\n",
    "            u = ord(u) - 97\n",
    "            v = ord(v) - 97\n",
    "            if d[u] + w < d[v]:\n",
    "                d[v] = d[u] + w\n",
    "                pred[v] = u\n",
    "                changed = True\n",
    "        if not changed:\n",
    "            break\n",
    "        if i == n-1:\n",
    "            print('negative cycle')\n",
    "            return (None, None)\n",
    "    return (d, pred)"
   ]
  },
  {
   "cell_type": "code",
   "execution_count": 37,
   "metadata": {},
   "outputs": [
    {
     "name": "stdout",
     "output_type": "stream",
     "text": [
      "negative cycle\n"
     ]
    },
    {
     "data": {
      "text/plain": [
       "(None, None)"
      ]
     },
     "execution_count": 37,
     "metadata": {},
     "output_type": "execute_result"
    }
   ],
   "source": [
    "E = [\n",
    "    ['a','c',7],\n",
    "    ['a','d',2],\n",
    "    ['d','b',3],\n",
    "    ['b','c',8],\n",
    "    ['e','d',11],\n",
    "    ['e','b',22],\n",
    "    ['c','e',16],\n",
    "    ['f','c',14],\n",
    "    ['e','f',1],\n",
    "    ['h','e',17],\n",
    "    ['f','g',21],\n",
    "    ['g','f',10],\n",
    "    ['g','j',9],\n",
    "    ['f','h',15],\n",
    "    ['h','g',2],\n",
    "    ['l','f',18],\n",
    "    ['i','h',13],\n",
    "    ['j','g',5],\n",
    "    ['j','i',12],\n",
    "    ['k','i',20],\n",
    "    ['j','l',-19],\n",
    "    ['k','j',-4],\n",
    "    ['l','k',-6]\n",
    "]\n",
    "n = 12\n",
    "s = 0\n",
    "bellmanFord(n,E,s)"
   ]
  }
 ],
 "metadata": {
  "kernelspec": {
   "display_name": "Python 3.10.1 64-bit",
   "language": "python",
   "name": "python3"
  },
  "language_info": {
   "codemirror_mode": {
    "name": "ipython",
    "version": 3
   },
   "file_extension": ".py",
   "mimetype": "text/x-python",
   "name": "python",
   "nbconvert_exporter": "python",
   "pygments_lexer": "ipython3",
   "version": "3.10.1"
  },
  "orig_nbformat": 4,
  "vscode": {
   "interpreter": {
    "hash": "0ff0b96145d8220c61704a8b4e747ca76dd69172e5ad0b81508c76a8026a7718"
   }
  }
 },
 "nbformat": 4,
 "nbformat_minor": 2
}
